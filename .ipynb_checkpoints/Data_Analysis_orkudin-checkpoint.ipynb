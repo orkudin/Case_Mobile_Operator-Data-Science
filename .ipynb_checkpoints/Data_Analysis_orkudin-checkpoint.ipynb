{
 "cells": [
  {
   "cell_type": "code",
   "execution_count": 1,
   "id": "9ac2cd8e",
   "metadata": {},
   "outputs": [],
   "source": [
    "import numpy as np\n",
    "import pandas as pd\n",
    "import matplotlib.pyplot as plt\n",
    "import seaborn as sns"
   ]
  },
  {
   "cell_type": "code",
   "execution_count": 2,
   "id": "31fcbbbe",
   "metadata": {},
   "outputs": [],
   "source": [
    "%matplotlib inline"
   ]
  },
  {
   "cell_type": "code",
   "execution_count": 3,
   "id": "c2f2d19d",
   "metadata": {},
   "outputs": [],
   "source": [
    "# LinearRegression()  model can be used from linear_model module\n",
    "from sklearn import linear_model\n",
    "\n",
    "# OSL() model can be used from statmodels package\n",
    "import statsmodels.api as sm\n",
    "\n",
    "# we will perform sampling using train_test_split module for training and testin set\n",
    "# and we will use GridSearchCV to find the best parameters for SGDRegressor()\n",
    "from sklearn.model_selection import train_test_split\n",
    "\n",
    "from sklearn import preprocessing\n",
    "\n",
    "# we will evaluate our models using RMSE(mean_squared_error) and Determination coefficient(r2_score)\n",
    "from sklearn.metrics import mean_squared_error, r2_score\n",
    "\n",
    "# in case you will use polinominal features\n",
    "from sklearn.preprocessing import PolynomialFeatures\n",
    "\n",
    "from sklearn import tree\n",
    "from sklearn import preprocessing\n",
    "from sklearn.model_selection import train_test_split\n",
    "\n",
    "from sklearn.linear_model import SGDRegressor\n",
    "from sklearn.metrics import mean_squared_error\n",
    "from sklearn.preprocessing import StandardScaler\n",
    "\n",
    "from sklearn.model_selection import cross_val_score\n",
    "from sklearn.model_selection import train_test_split\n",
    "\n",
    "from sklearn import metrics"
   ]
  },
  {
   "cell_type": "markdown",
   "id": "115b3b75",
   "metadata": {},
   "source": [
    "# 1. Take a first look at your data"
   ]
  },
  {
   "cell_type": "code",
   "execution_count": 4,
   "id": "b3594972",
   "metadata": {},
   "outputs": [
    {
     "data": {
      "text/html": [
       "<div>\n",
       "<style scoped>\n",
       "    .dataframe tbody tr th:only-of-type {\n",
       "        vertical-align: middle;\n",
       "    }\n",
       "\n",
       "    .dataframe tbody tr th {\n",
       "        vertical-align: top;\n",
       "    }\n",
       "\n",
       "    .dataframe thead th {\n",
       "        text-align: right;\n",
       "    }\n",
       "</style>\n",
       "<table border=\"1\" class=\"dataframe\">\n",
       "  <thead>\n",
       "    <tr style=\"text-align: right;\">\n",
       "      <th></th>\n",
       "      <th>YearStart</th>\n",
       "      <th>YearEnd</th>\n",
       "      <th>LocationAbbr</th>\n",
       "      <th>LocationDesc</th>\n",
       "      <th>Datasource</th>\n",
       "      <th>Class</th>\n",
       "      <th>Topic</th>\n",
       "      <th>Question</th>\n",
       "      <th>Data_Value_Unit</th>\n",
       "      <th>Data_Value_Type</th>\n",
       "      <th>...</th>\n",
       "      <th>GeoLocation</th>\n",
       "      <th>ClassID</th>\n",
       "      <th>TopicID</th>\n",
       "      <th>QuestionID</th>\n",
       "      <th>DataValueTypeID</th>\n",
       "      <th>LocationID</th>\n",
       "      <th>StratificationCategory1</th>\n",
       "      <th>Stratification1</th>\n",
       "      <th>StratificationCategoryId1</th>\n",
       "      <th>StratificationID1</th>\n",
       "    </tr>\n",
       "  </thead>\n",
       "  <tbody>\n",
       "    <tr>\n",
       "      <th>1</th>\n",
       "      <td>2011</td>\n",
       "      <td>2011</td>\n",
       "      <td>AL</td>\n",
       "      <td>Alabama</td>\n",
       "      <td>Behavioral Risk Factor Surveillance System</td>\n",
       "      <td>Obesity / Weight Status</td>\n",
       "      <td>Obesity / Weight Status</td>\n",
       "      <td>Percent of adults aged 18 years and older who ...</td>\n",
       "      <td>NaN</td>\n",
       "      <td>Value</td>\n",
       "      <td>...</td>\n",
       "      <td>(32.84057112200048, -86.63186076199969)</td>\n",
       "      <td>OWS</td>\n",
       "      <td>OWS1</td>\n",
       "      <td>Q036</td>\n",
       "      <td>VALUE</td>\n",
       "      <td>1</td>\n",
       "      <td>Gender</td>\n",
       "      <td>Male</td>\n",
       "      <td>GEN</td>\n",
       "      <td>MALE</td>\n",
       "    </tr>\n",
       "    <tr>\n",
       "      <th>3</th>\n",
       "      <td>2011</td>\n",
       "      <td>2011</td>\n",
       "      <td>AL</td>\n",
       "      <td>Alabama</td>\n",
       "      <td>Behavioral Risk Factor Surveillance System</td>\n",
       "      <td>Obesity / Weight Status</td>\n",
       "      <td>Obesity / Weight Status</td>\n",
       "      <td>Percent of adults aged 18 years and older who ...</td>\n",
       "      <td>NaN</td>\n",
       "      <td>Value</td>\n",
       "      <td>...</td>\n",
       "      <td>(32.84057112200048, -86.63186076199969)</td>\n",
       "      <td>OWS</td>\n",
       "      <td>OWS1</td>\n",
       "      <td>Q036</td>\n",
       "      <td>VALUE</td>\n",
       "      <td>1</td>\n",
       "      <td>Education</td>\n",
       "      <td>Less than high school</td>\n",
       "      <td>EDU</td>\n",
       "      <td>EDUHS</td>\n",
       "    </tr>\n",
       "    <tr>\n",
       "      <th>5</th>\n",
       "      <td>2011</td>\n",
       "      <td>2011</td>\n",
       "      <td>AL</td>\n",
       "      <td>Alabama</td>\n",
       "      <td>Behavioral Risk Factor Surveillance System</td>\n",
       "      <td>Obesity / Weight Status</td>\n",
       "      <td>Obesity / Weight Status</td>\n",
       "      <td>Percent of adults aged 18 years and older who ...</td>\n",
       "      <td>NaN</td>\n",
       "      <td>Value</td>\n",
       "      <td>...</td>\n",
       "      <td>(32.84057112200048, -86.63186076199969)</td>\n",
       "      <td>OWS</td>\n",
       "      <td>OWS1</td>\n",
       "      <td>Q036</td>\n",
       "      <td>VALUE</td>\n",
       "      <td>1</td>\n",
       "      <td>Education</td>\n",
       "      <td>Some college or technical school</td>\n",
       "      <td>EDU</td>\n",
       "      <td>EDUCOTEC</td>\n",
       "    </tr>\n",
       "    <tr>\n",
       "      <th>7</th>\n",
       "      <td>2011</td>\n",
       "      <td>2011</td>\n",
       "      <td>AL</td>\n",
       "      <td>Alabama</td>\n",
       "      <td>Behavioral Risk Factor Surveillance System</td>\n",
       "      <td>Obesity / Weight Status</td>\n",
       "      <td>Obesity / Weight Status</td>\n",
       "      <td>Percent of adults aged 18 years and older who ...</td>\n",
       "      <td>NaN</td>\n",
       "      <td>Value</td>\n",
       "      <td>...</td>\n",
       "      <td>(32.84057112200048, -86.63186076199969)</td>\n",
       "      <td>OWS</td>\n",
       "      <td>OWS1</td>\n",
       "      <td>Q036</td>\n",
       "      <td>VALUE</td>\n",
       "      <td>1</td>\n",
       "      <td>Age (years)</td>\n",
       "      <td>18 - 24</td>\n",
       "      <td>AGEYR</td>\n",
       "      <td>AGEYR1824</td>\n",
       "    </tr>\n",
       "    <tr>\n",
       "      <th>9</th>\n",
       "      <td>2011</td>\n",
       "      <td>2011</td>\n",
       "      <td>AL</td>\n",
       "      <td>Alabama</td>\n",
       "      <td>Behavioral Risk Factor Surveillance System</td>\n",
       "      <td>Obesity / Weight Status</td>\n",
       "      <td>Obesity / Weight Status</td>\n",
       "      <td>Percent of adults aged 18 years and older who ...</td>\n",
       "      <td>NaN</td>\n",
       "      <td>Value</td>\n",
       "      <td>...</td>\n",
       "      <td>(32.84057112200048, -86.63186076199969)</td>\n",
       "      <td>OWS</td>\n",
       "      <td>OWS1</td>\n",
       "      <td>Q036</td>\n",
       "      <td>VALUE</td>\n",
       "      <td>1</td>\n",
       "      <td>Age (years)</td>\n",
       "      <td>35 - 44</td>\n",
       "      <td>AGEYR</td>\n",
       "      <td>AGEYR3544</td>\n",
       "    </tr>\n",
       "  </tbody>\n",
       "</table>\n",
       "<p>5 rows × 33 columns</p>\n",
       "</div>"
      ],
      "text/plain": [
       "   YearStart  YearEnd LocationAbbr LocationDesc  \\\n",
       "1       2011     2011           AL      Alabama   \n",
       "3       2011     2011           AL      Alabama   \n",
       "5       2011     2011           AL      Alabama   \n",
       "7       2011     2011           AL      Alabama   \n",
       "9       2011     2011           AL      Alabama   \n",
       "\n",
       "                                   Datasource                    Class  \\\n",
       "1  Behavioral Risk Factor Surveillance System  Obesity / Weight Status   \n",
       "3  Behavioral Risk Factor Surveillance System  Obesity / Weight Status   \n",
       "5  Behavioral Risk Factor Surveillance System  Obesity / Weight Status   \n",
       "7  Behavioral Risk Factor Surveillance System  Obesity / Weight Status   \n",
       "9  Behavioral Risk Factor Surveillance System  Obesity / Weight Status   \n",
       "\n",
       "                     Topic                                           Question  \\\n",
       "1  Obesity / Weight Status  Percent of adults aged 18 years and older who ...   \n",
       "3  Obesity / Weight Status  Percent of adults aged 18 years and older who ...   \n",
       "5  Obesity / Weight Status  Percent of adults aged 18 years and older who ...   \n",
       "7  Obesity / Weight Status  Percent of adults aged 18 years and older who ...   \n",
       "9  Obesity / Weight Status  Percent of adults aged 18 years and older who ...   \n",
       "\n",
       "   Data_Value_Unit Data_Value_Type  ...  \\\n",
       "1              NaN           Value  ...   \n",
       "3              NaN           Value  ...   \n",
       "5              NaN           Value  ...   \n",
       "7              NaN           Value  ...   \n",
       "9              NaN           Value  ...   \n",
       "\n",
       "                               GeoLocation  ClassID TopicID QuestionID  \\\n",
       "1  (32.84057112200048, -86.63186076199969)      OWS    OWS1       Q036   \n",
       "3  (32.84057112200048, -86.63186076199969)      OWS    OWS1       Q036   \n",
       "5  (32.84057112200048, -86.63186076199969)      OWS    OWS1       Q036   \n",
       "7  (32.84057112200048, -86.63186076199969)      OWS    OWS1       Q036   \n",
       "9  (32.84057112200048, -86.63186076199969)      OWS    OWS1       Q036   \n",
       "\n",
       "   DataValueTypeID  LocationID  StratificationCategory1  \\\n",
       "1            VALUE           1                   Gender   \n",
       "3            VALUE           1                Education   \n",
       "5            VALUE           1                Education   \n",
       "7            VALUE           1              Age (years)   \n",
       "9            VALUE           1              Age (years)   \n",
       "\n",
       "                    Stratification1 StratificationCategoryId1  \\\n",
       "1                              Male                       GEN   \n",
       "3             Less than high school                       EDU   \n",
       "5  Some college or technical school                       EDU   \n",
       "7                           18 - 24                     AGEYR   \n",
       "9                           35 - 44                     AGEYR   \n",
       "\n",
       "  StratificationID1  \n",
       "1              MALE  \n",
       "3             EDUHS  \n",
       "5          EDUCOTEC  \n",
       "7         AGEYR1824  \n",
       "9         AGEYR3544  \n",
       "\n",
       "[5 rows x 33 columns]"
      ]
     },
     "execution_count": 4,
     "metadata": {},
     "output_type": "execute_result"
    }
   ],
   "source": [
    "data = pd.read_csv(\"Data.csv\")\n",
    "dataset = data.iloc[1::2]\n",
    "dataset.head()"
   ]
  },
  {
   "cell_type": "code",
   "execution_count": 5,
   "id": "e48d121d",
   "metadata": {},
   "outputs": [
    {
     "name": "stdout",
     "output_type": "stream",
     "text": [
      "<class 'pandas.core.frame.DataFrame'>\n",
      "RangeIndex: 26696 entries, 1 to 53391\n",
      "Data columns (total 33 columns):\n",
      " #   Column                      Non-Null Count  Dtype  \n",
      "---  ------                      --------------  -----  \n",
      " 0   YearStart                   26696 non-null  int64  \n",
      " 1   YearEnd                     26696 non-null  int64  \n",
      " 2   LocationAbbr                26696 non-null  object \n",
      " 3   LocationDesc                26696 non-null  object \n",
      " 4   Datasource                  26696 non-null  object \n",
      " 5   Class                       26696 non-null  object \n",
      " 6   Topic                       26696 non-null  object \n",
      " 7   Question                    26696 non-null  object \n",
      " 8   Data_Value_Unit             0 non-null      float64\n",
      " 9   Data_Value_Type             26696 non-null  object \n",
      " 10  Data_Value                  24207 non-null  float64\n",
      " 11  Data_Value_Alt              24207 non-null  float64\n",
      " 12  Data_Value_Footnote_Symbol  2489 non-null   object \n",
      " 13  Data_Value_Footnote         2489 non-null   object \n",
      " 14  Low_Confidence_Limit        24207 non-null  float64\n",
      " 15  High_Confidence_Limit       24207 non-null  float64\n",
      " 16  Sample_Size                 24207 non-null  float64\n",
      " 17  Total                       987 non-null    object \n",
      " 18  Age(years)                  5715 non-null   object \n",
      " 19  Education                   3826 non-null   object \n",
      " 20  Gender                      1928 non-null   object \n",
      " 21  Income                      6630 non-null   object \n",
      " 22  Race/Ethnicity              7610 non-null   object \n",
      " 23  GeoLocation                 26189 non-null  object \n",
      " 24  ClassID                     26696 non-null  object \n",
      " 25  TopicID                     26696 non-null  object \n",
      " 26  QuestionID                  26696 non-null  object \n",
      " 27  DataValueTypeID             26696 non-null  object \n",
      " 28  LocationID                  26696 non-null  int64  \n",
      " 29  StratificationCategory1     26696 non-null  object \n",
      " 30  Stratification1             26696 non-null  object \n",
      " 31  StratificationCategoryId1   26696 non-null  object \n",
      " 32  StratificationID1           26696 non-null  object \n",
      "dtypes: float64(6), int64(3), object(24)\n",
      "memory usage: 6.7+ MB\n"
     ]
    }
   ],
   "source": [
    "dataset.info()"
   ]
  },
  {
   "cell_type": "code",
   "execution_count": 6,
   "id": "9a257fa5",
   "metadata": {},
   "outputs": [
    {
     "data": {
      "text/html": [
       "<div>\n",
       "<style scoped>\n",
       "    .dataframe tbody tr th:only-of-type {\n",
       "        vertical-align: middle;\n",
       "    }\n",
       "\n",
       "    .dataframe tbody tr th {\n",
       "        vertical-align: top;\n",
       "    }\n",
       "\n",
       "    .dataframe thead th {\n",
       "        text-align: right;\n",
       "    }\n",
       "</style>\n",
       "<table border=\"1\" class=\"dataframe\">\n",
       "  <thead>\n",
       "    <tr style=\"text-align: right;\">\n",
       "      <th></th>\n",
       "      <th>count</th>\n",
       "      <th>mean</th>\n",
       "      <th>std</th>\n",
       "      <th>min</th>\n",
       "      <th>25%</th>\n",
       "      <th>50%</th>\n",
       "      <th>75%</th>\n",
       "      <th>max</th>\n",
       "    </tr>\n",
       "  </thead>\n",
       "  <tbody>\n",
       "    <tr>\n",
       "      <th>YearStart</th>\n",
       "      <td>26696.0</td>\n",
       "      <td>2013.281353</td>\n",
       "      <td>1.693545</td>\n",
       "      <td>2011.0</td>\n",
       "      <td>2012.0</td>\n",
       "      <td>2013.0</td>\n",
       "      <td>2015.0</td>\n",
       "      <td>2016.0</td>\n",
       "    </tr>\n",
       "    <tr>\n",
       "      <th>YearEnd</th>\n",
       "      <td>26696.0</td>\n",
       "      <td>2013.281353</td>\n",
       "      <td>1.693545</td>\n",
       "      <td>2011.0</td>\n",
       "      <td>2012.0</td>\n",
       "      <td>2013.0</td>\n",
       "      <td>2015.0</td>\n",
       "      <td>2016.0</td>\n",
       "    </tr>\n",
       "    <tr>\n",
       "      <th>Data_Value_Unit</th>\n",
       "      <td>0.0</td>\n",
       "      <td>NaN</td>\n",
       "      <td>NaN</td>\n",
       "      <td>NaN</td>\n",
       "      <td>NaN</td>\n",
       "      <td>NaN</td>\n",
       "      <td>NaN</td>\n",
       "      <td>NaN</td>\n",
       "    </tr>\n",
       "    <tr>\n",
       "      <th>Data_Value</th>\n",
       "      <td>24207.0</td>\n",
       "      <td>31.112600</td>\n",
       "      <td>10.227581</td>\n",
       "      <td>2.1</td>\n",
       "      <td>24.1</td>\n",
       "      <td>30.7</td>\n",
       "      <td>36.9</td>\n",
       "      <td>77.6</td>\n",
       "    </tr>\n",
       "    <tr>\n",
       "      <th>Data_Value_Alt</th>\n",
       "      <td>24207.0</td>\n",
       "      <td>31.112600</td>\n",
       "      <td>10.227581</td>\n",
       "      <td>2.1</td>\n",
       "      <td>24.1</td>\n",
       "      <td>30.7</td>\n",
       "      <td>36.9</td>\n",
       "      <td>77.6</td>\n",
       "    </tr>\n",
       "    <tr>\n",
       "      <th>Low_Confidence_Limit</th>\n",
       "      <td>24207.0</td>\n",
       "      <td>26.877849</td>\n",
       "      <td>10.019014</td>\n",
       "      <td>0.4</td>\n",
       "      <td>20.0</td>\n",
       "      <td>26.4</td>\n",
       "      <td>32.8</td>\n",
       "      <td>69.0</td>\n",
       "    </tr>\n",
       "    <tr>\n",
       "      <th>High_Confidence_Limit</th>\n",
       "      <td>24207.0</td>\n",
       "      <td>35.908217</td>\n",
       "      <td>11.198406</td>\n",
       "      <td>5.1</td>\n",
       "      <td>28.2</td>\n",
       "      <td>35.4</td>\n",
       "      <td>42.1</td>\n",
       "      <td>86.8</td>\n",
       "    </tr>\n",
       "    <tr>\n",
       "      <th>Sample_Size</th>\n",
       "      <td>24207.0</td>\n",
       "      <td>3816.402528</td>\n",
       "      <td>18488.302948</td>\n",
       "      <td>50.0</td>\n",
       "      <td>570.0</td>\n",
       "      <td>1241.0</td>\n",
       "      <td>2599.0</td>\n",
       "      <td>454894.0</td>\n",
       "    </tr>\n",
       "    <tr>\n",
       "      <th>LocationID</th>\n",
       "      <td>26696.0</td>\n",
       "      <td>30.296486</td>\n",
       "      <td>16.827207</td>\n",
       "      <td>1.0</td>\n",
       "      <td>17.0</td>\n",
       "      <td>30.0</td>\n",
       "      <td>44.0</td>\n",
       "      <td>78.0</td>\n",
       "    </tr>\n",
       "  </tbody>\n",
       "</table>\n",
       "</div>"
      ],
      "text/plain": [
       "                          count         mean           std     min     25%  \\\n",
       "YearStart               26696.0  2013.281353      1.693545  2011.0  2012.0   \n",
       "YearEnd                 26696.0  2013.281353      1.693545  2011.0  2012.0   \n",
       "Data_Value_Unit             0.0          NaN           NaN     NaN     NaN   \n",
       "Data_Value              24207.0    31.112600     10.227581     2.1    24.1   \n",
       "Data_Value_Alt          24207.0    31.112600     10.227581     2.1    24.1   \n",
       "Low_Confidence_Limit    24207.0    26.877849     10.019014     0.4    20.0   \n",
       "High_Confidence_Limit   24207.0    35.908217     11.198406     5.1    28.2   \n",
       "Sample_Size             24207.0  3816.402528  18488.302948    50.0   570.0   \n",
       "LocationID              26696.0    30.296486     16.827207     1.0    17.0   \n",
       "\n",
       "                           50%     75%       max  \n",
       "YearStart               2013.0  2015.0    2016.0  \n",
       "YearEnd                 2013.0  2015.0    2016.0  \n",
       "Data_Value_Unit            NaN     NaN       NaN  \n",
       "Data_Value                30.7    36.9      77.6  \n",
       "Data_Value_Alt            30.7    36.9      77.6  \n",
       "Low_Confidence_Limit      26.4    32.8      69.0  \n",
       "High_Confidence_Limit     35.4    42.1      86.8  \n",
       "Sample_Size             1241.0  2599.0  454894.0  \n",
       "LocationID                30.0    44.0      78.0  "
      ]
     },
     "execution_count": 6,
     "metadata": {},
     "output_type": "execute_result"
    }
   ],
   "source": [
    "dataset.describe().T"
   ]
  },
  {
   "cell_type": "code",
   "execution_count": 7,
   "id": "673334ea",
   "metadata": {},
   "outputs": [
    {
     "data": {
      "text/plain": [
       "1        2581.0\n",
       "3        1153.0\n",
       "5        1925.0\n",
       "7         356.0\n",
       "9         865.0\n",
       "          ...  \n",
       "53383     137.0\n",
       "53385     820.0\n",
       "53387       NaN\n",
       "53389       NaN\n",
       "53391       NaN\n",
       "Name: Sample_Size, Length: 26696, dtype: float64"
      ]
     },
     "execution_count": 7,
     "metadata": {},
     "output_type": "execute_result"
    }
   ],
   "source": [
    "dataset[\"Sample_Size\"]"
   ]
  },
  {
   "cell_type": "markdown",
   "id": "eed90c57",
   "metadata": {},
   "source": [
    "# 2. Data preparation \n",
    "(handling missing values, outliers, irrelevant data,\n",
    "format, data types, detecting the features and target value, dividing into\n",
    "train and test sets) "
   ]
  },
  {
   "cell_type": "code",
   "execution_count": 8,
   "id": "5e34a2cb",
   "metadata": {},
   "outputs": [
    {
     "data": {
      "text/plain": [
       "Data_Value_Unit               26696\n",
       "Total                         25709\n",
       "Gender                        24768\n",
       "Data_Value_Footnote_Symbol    24207\n",
       "Data_Value_Footnote           24207\n",
       "Education                     22870\n",
       "Age(years)                    20981\n",
       "Income                        20066\n",
       "Race/Ethnicity                19086\n",
       "High_Confidence_Limit          2489\n",
       "Low_Confidence_Limit           2489\n",
       "Sample_Size                    2489\n",
       "Data_Value                     2489\n",
       "Data_Value_Alt                 2489\n",
       "GeoLocation                     507\n",
       "TopicID                           0\n",
       "QuestionID                        0\n",
       "ClassID                           0\n",
       "DataValueTypeID                   0\n",
       "LocationID                        0\n",
       "StratificationCategory1           0\n",
       "Stratification1                   0\n",
       "StratificationCategoryId1         0\n",
       "YearStart                         0\n",
       "YearEnd                           0\n",
       "Data_Value_Type                   0\n",
       "Question                          0\n",
       "Topic                             0\n",
       "Class                             0\n",
       "Datasource                        0\n",
       "LocationDesc                      0\n",
       "LocationAbbr                      0\n",
       "StratificationID1                 0\n",
       "dtype: int64"
      ]
     },
     "execution_count": 8,
     "metadata": {},
     "output_type": "execute_result"
    }
   ],
   "source": [
    "# It is noticeable that the number of empty values is too much\n",
    "dataset.isnull().sum().sort_values(ascending=False)"
   ]
  },
  {
   "cell_type": "code",
   "execution_count": 9,
   "id": "4fa2add8",
   "metadata": {},
   "outputs": [
    {
     "data": {
      "text/plain": [
       "<bound method Series.unique of 1        OWS1\n",
       "3        OWS1\n",
       "5        OWS1\n",
       "7        OWS1\n",
       "9        OWS1\n",
       "         ... \n",
       "53383     PA1\n",
       "53385     PA1\n",
       "53387     PA1\n",
       "53389     PA1\n",
       "53391     PA1\n",
       "Name: TopicID, Length: 26696, dtype: object>"
      ]
     },
     "execution_count": 9,
     "metadata": {},
     "output_type": "execute_result"
    }
   ],
   "source": [
    "dataset[\"TopicID\"].unique"
   ]
  },
  {
   "cell_type": "code",
   "execution_count": 10,
   "id": "0c243640",
   "metadata": {
    "scrolled": true
   },
   "outputs": [
    {
     "name": "stdout",
     "output_type": "stream",
     "text": [
      "YearStart :  [2011 2012 2014 2013 2015 2016]\n",
      "YearEnd :  [2011 2012 2014 2013 2015 2016]\n",
      "LocationAbbr :  ['AL' 'US' 'AK' 'AZ' 'AR' 'CA' 'CT' 'CO' 'DE' 'FL' 'DC' 'GA' 'GU' 'HI'\n",
      " 'ID' 'IL' 'IN' 'IA' 'KS' 'KY' 'LA' 'ME' 'MD' 'MA' 'MI' 'MN' 'MS' 'MO'\n",
      " 'MT' 'NE' 'NV' 'NH' 'NJ' 'NM' 'NY' 'NC' 'ND' 'OH' 'OK' 'OR' 'PA' 'PR'\n",
      " 'RI' 'SC' 'SD' 'TN' 'TX' 'UT' 'VT' 'VA' 'WA' 'WI' 'WY' 'WV' 'VI']\n",
      "LocationDesc :  ['Alabama' 'National' 'Alaska' 'Arizona' 'Arkansas' 'California'\n",
      " 'Connecticut' 'Colorado' 'Delaware' 'Florida' 'District of Columbia'\n",
      " 'Georgia' 'Guam' 'Hawaii' 'Idaho' 'Illinois' 'Indiana' 'Iowa' 'Kansas'\n",
      " 'Kentucky' 'Louisiana' 'Maine' 'Maryland' 'Massachusetts' 'Michigan'\n",
      " 'Minnesota' 'Mississippi' 'Missouri' 'Montana' 'Nebraska' 'Nevada'\n",
      " 'New Hampshire' 'New Jersey' 'New Mexico' 'New York' 'North Carolina'\n",
      " 'North Dakota' 'Ohio' 'Oklahoma' 'Oregon' 'Pennsylvania' 'Puerto Rico'\n",
      " 'Rhode Island' 'South Carolina' 'South Dakota' 'Tennessee' 'Texas' 'Utah'\n",
      " 'Vermont' 'Virginia' 'Washington' 'Wisconsin' 'Wyoming' 'West Virginia'\n",
      " 'Virgin Islands']\n",
      "Datasource :  ['Behavioral Risk Factor Surveillance System']\n",
      "Class :  ['Obesity / Weight Status' 'Fruits and Vegetables' 'Physical Activity']\n",
      "Topic :  ['Obesity / Weight Status' 'Fruits and Vegetables - Behavior'\n",
      " 'Physical Activity - Behavior']\n",
      "Question :  ['Percent of adults aged 18 years and older who have obesity'\n",
      " 'Percent of adults aged 18 years and older who have an overweight classification'\n",
      " 'Percent of adults who report consuming fruit less than one time daily'\n",
      " 'Percent of adults who report consuming vegetables less than one time daily'\n",
      " 'Percent of adults who achieve at least 150 minutes a week of moderate-intensity aerobic physical activity or 75 minutes a week of vigorous-intensity aerobic activity (or an equivalent combination)'\n",
      " 'Percent of adults who engage in muscle-strengthening activities on 2 or more days a week'\n",
      " 'Percent of adults who achieve at least 150 minutes a week of moderate-intensity aerobic physical activity or 75 minutes a week of vigorous-intensity aerobic physical activity and engage in muscle-strengthening activities on 2 or more days a week'\n",
      " 'Percent of adults who achieve at least 300 minutes a week of moderate-intensity aerobic physical activity or 150 minutes a week of vigorous-intensity aerobic activity (or an equivalent combination)'\n",
      " 'Percent of adults who engage in no leisure-time physical activity']\n",
      "Data_Value_Unit :  [nan]\n",
      "Data_Value_Type :  ['Value']\n",
      "Data_Value :  [32.3 33.6 33.8 16.3 35.5 36.4 38.5 35.8 34.1 23.8 40.1  nan 32.9 39.\n",
      " 33.2 35.  27.1 33.3 38.9 28.4 35.7 36.1 36.  30.1 31.4 35.4 39.5 41.2\n",
      " 41.8 43.1 44.8 45.5 46.9 47.9 51.4 26.6 34.5 20.8 21.6 29.4 19.9 26.\n",
      " 22.1 42.4 39.6 40.8 52.6 41.9 25.4 16.8 43.4 36.7 48.7 53.5 43.  37.9\n",
      " 15.  12.8 13.2 22.6 12.4 10.7 10.9 16.5 21.2 14.3 13.  23.2 23.9 22.7\n",
      " 27.3 27.4 22.8 23.5 22.3 25.  22.  23.4 24.7 19.8 22.9 18.1 26.2 37.6\n",
      " 21.4 20.2 20.3 32.6 35.3 33.5 19.6 27.2 39.8 38.6 27.9  9.7 34.8 41.6\n",
      " 31.8 35.2 34.4 40.3 29.  44.1 30.4 18.5 39.7 30.3 35.6 26.4 34.2 28.2\n",
      " 37.5 34.3 28.  21.3 15.2 40.4 26.9 20.6 31.6 30.2 30.7 30.9 19.  37.1\n",
      " 37.2 36.6 31.1 29.6 35.1 41.5 33.9 40.7 28.9 44.2 51.2 48.8 47.1 49.3\n",
      " 46.3 45.1 42.7 51.  10.2 15.9 29.9 25.8 17.1 25.7 25.9 49.5 40.9 36.3\n",
      " 55.5 21.7 25.1 48.3 49.9 49.  12.6 12.5 24.4 20.7 14.7 11.3 18.7 15.6\n",
      " 30.6 24.  25.6 31.7 28.3 19.1 34.6 24.9 20.9 26.7 25.5 23.6 23.1 34.\n",
      " 34.9 27.8 42.1 29.7 22.2 20.4 37.4 24.3 31.  26.3 31.3 32.2 27.6 32.7\n",
      " 14.8 33.7 37.  16.6 16.2 33.1 29.2 29.3 24.5 31.5 23.3 45.3 32.  24.6\n",
      " 38.1 43.7 38.7 39.1 42.9 43.6 44.6 45.6 47.5 51.7 19.7 18.4 16.  27.\n",
      " 17.9 57.9 57.4 67.2 57.6 56.2 58.2 56.  59.3 52.7 52.2 28.1 20.1 25.2\n",
      " 21.1 26.1 17.4 37.7 43.3 38.8 46.6 40.  51.9 30.8 24.2 38.  42.3 28.8\n",
      " 19.2  9.  22.4 44.4 32.5 40.6 37.8 31.2 21.8 13.4 23.  29.8 38.3 39.3\n",
      " 38.2 42.8 39.9 54.5 36.8 48.9 57.2 28.6 27.7 15.8 11.7 50.1 55.9 60.6\n",
      " 58.1 54.  50.8 68.  59.6 47.4 54.4 53.4 20.5 19.4 16.9 28.7 27.5 42.5\n",
      " 35.9 40.5 14.4 11.9 41.3 44.7 37.3  8.7 21.  12.3 16.1 46.1 29.5 40.2\n",
      " 36.9 41.1 42.2 47.3 12.2 17.3 17.7 11.8 18.2 26.5  9.3 52.8 50.7 42.\n",
      " 52.5 59.7 61.6 59.5 57.1 42.6 62.4 20.  45.2 38.4 43.2 47.6 36.2 32.4\n",
      " 13.7 21.9 29.1 28.5 26.8 22.5 53.  39.4 41.7 41.  39.2 59.2 56.7 54.2\n",
      " 61.3 45.8 58.6 50.5 50.3 17.5 17.6 23.7 34.7 43.9 45.  18.9 18.6 41.4\n",
      " 13.3 15.7 32.1  6.6 24.1 19.3 49.2 51.3 55.3 49.7 48.5 55.4 16.7 18.\n",
      "  9.9 14.9 46.  54.1 55.2 51.6 59.4 53.1 58.9 17.2 44.9 45.9 15.1  5.4\n",
      " 14.5  9.1  7.4 15.4  8.4 32.8 45.7 36.5 31.9 53.6 15.3  8.1 33.  14.\n",
      " 10.4 14.1 61.5 66.2 64.3 50.2 56.6 66.8 65.3 66.  13.6 21.5 10.3 12.\n",
      " 19.5 13.9 51.8 60.2 56.9 49.1 59.9 56.3 11.6 30.5 33.4 54.3 11.4 30.\n",
      "  8.9 17.  18.3 47.8 61.8 61.9 68.9 64.5 53.2 61.2 64.8 63.6 66.3 25.3\n",
      "  8.8 14.2 44.3 61.4 63.2 60.1 44.5 54.6 62.  43.8 46.7  8.6 10.1 15.5\n",
      " 18.8 16.4  7.8 24.8 50.9 49.6 17.8 10.8 11.2  9.2 47.7 13.8 12.9 58.8\n",
      " 50.  10.6 10.5  7.3  2.1 44.  50.4 62.8 43.5 46.4 55.1 48.  49.8 12.7\n",
      " 11.1  8.5 66.1 70.2 60.7 10.   9.6  8.3 13.5  9.8 51.5 56.1 55.  58.3\n",
      " 57.7 66.4 12.1  6.2 54.9 59.8 46.8 52.4 57.3 58.4 14.6 13.1 48.4 48.1\n",
      " 54.7 48.6 46.2 62.3 45.4 11.5 47.2 51.1  4.3 58.5 63.1 55.8 62.6 60.4\n",
      " 61.7 48.2 69.3 66.7 60.5 59.1 70.  65.8 74.6 64.4 52.9 70.9 50.6 53.7\n",
      "  3.2 47.  57.   9.5 52.3 55.7 56.4 66.9 65.7 54.8  4.8 63.7 53.8 60.3\n",
      "  6.9 62.2 49.4 46.5 62.7 60.8 52.  56.5 58.7 53.3 11.  53.9 64.9 57.8\n",
      " 56.8 52.1 57.5 58.  59.   6.1 73.8 62.5  9.4 63.  65.   6.8  5.8 64.1\n",
      " 65.4 71.5 67.3 67.4  6.5  6.   5.6 60.  67.   5.7  3.   6.4  7.7 55.6\n",
      " 69.6  7.6  7.1  8.2 70.3 63.9  7.9 63.8 70.7 61.1 66.5 69.1 71.6 67.1\n",
      " 62.1 64.2 63.5 61.  77.6 60.9 70.4 65.6 62.9  3.6  4.6  3.4  4.1  5.1\n",
      "  6.3  5.2]\n",
      "Data_Value_Alt :  [32.3 33.6 33.8 16.3 35.5 36.4 38.5 35.8 34.1 23.8 40.1  nan 32.9 39.\n",
      " 33.2 35.  27.1 33.3 38.9 28.4 35.7 36.1 36.  30.1 31.4 35.4 39.5 41.2\n",
      " 41.8 43.1 44.8 45.5 46.9 47.9 51.4 26.6 34.5 20.8 21.6 29.4 19.9 26.\n",
      " 22.1 42.4 39.6 40.8 52.6 41.9 25.4 16.8 43.4 36.7 48.7 53.5 43.  37.9\n",
      " 15.  12.8 13.2 22.6 12.4 10.7 10.9 16.5 21.2 14.3 13.  23.2 23.9 22.7\n",
      " 27.3 27.4 22.8 23.5 22.3 25.  22.  23.4 24.7 19.8 22.9 18.1 26.2 37.6\n",
      " 21.4 20.2 20.3 32.6 35.3 33.5 19.6 27.2 39.8 38.6 27.9  9.7 34.8 41.6\n",
      " 31.8 35.2 34.4 40.3 29.  44.1 30.4 18.5 39.7 30.3 35.6 26.4 34.2 28.2\n",
      " 37.5 34.3 28.  21.3 15.2 40.4 26.9 20.6 31.6 30.2 30.7 30.9 19.  37.1\n",
      " 37.2 36.6 31.1 29.6 35.1 41.5 33.9 40.7 28.9 44.2 51.2 48.8 47.1 49.3\n",
      " 46.3 45.1 42.7 51.  10.2 15.9 29.9 25.8 17.1 25.7 25.9 49.5 40.9 36.3\n",
      " 55.5 21.7 25.1 48.3 49.9 49.  12.6 12.5 24.4 20.7 14.7 11.3 18.7 15.6\n",
      " 30.6 24.  25.6 31.7 28.3 19.1 34.6 24.9 20.9 26.7 25.5 23.6 23.1 34.\n",
      " 34.9 27.8 42.1 29.7 22.2 20.4 37.4 24.3 31.  26.3 31.3 32.2 27.6 32.7\n",
      " 14.8 33.7 37.  16.6 16.2 33.1 29.2 29.3 24.5 31.5 23.3 45.3 32.  24.6\n",
      " 38.1 43.7 38.7 39.1 42.9 43.6 44.6 45.6 47.5 51.7 19.7 18.4 16.  27.\n",
      " 17.9 57.9 57.4 67.2 57.6 56.2 58.2 56.  59.3 52.7 52.2 28.1 20.1 25.2\n",
      " 21.1 26.1 17.4 37.7 43.3 38.8 46.6 40.  51.9 30.8 24.2 38.  42.3 28.8\n",
      " 19.2  9.  22.4 44.4 32.5 40.6 37.8 31.2 21.8 13.4 23.  29.8 38.3 39.3\n",
      " 38.2 42.8 39.9 54.5 36.8 48.9 57.2 28.6 27.7 15.8 11.7 50.1 55.9 60.6\n",
      " 58.1 54.  50.8 68.  59.6 47.4 54.4 53.4 20.5 19.4 16.9 28.7 27.5 42.5\n",
      " 35.9 40.5 14.4 11.9 41.3 44.7 37.3  8.7 21.  12.3 16.1 46.1 29.5 40.2\n",
      " 36.9 41.1 42.2 47.3 12.2 17.3 17.7 11.8 18.2 26.5  9.3 52.8 50.7 42.\n",
      " 52.5 59.7 61.6 59.5 57.1 42.6 62.4 20.  45.2 38.4 43.2 47.6 36.2 32.4\n",
      " 13.7 21.9 29.1 28.5 26.8 22.5 53.  39.4 41.7 41.  39.2 59.2 56.7 54.2\n",
      " 61.3 45.8 58.6 50.5 50.3 17.5 17.6 23.7 34.7 43.9 45.  18.9 18.6 41.4\n",
      " 13.3 15.7 32.1  6.6 24.1 19.3 49.2 51.3 55.3 49.7 48.5 55.4 16.7 18.\n",
      "  9.9 14.9 46.  54.1 55.2 51.6 59.4 53.1 58.9 17.2 44.9 45.9 15.1  5.4\n",
      " 14.5  9.1  7.4 15.4  8.4 32.8 45.7 36.5 31.9 53.6 15.3  8.1 33.  14.\n",
      " 10.4 14.1 61.5 66.2 64.3 50.2 56.6 66.8 65.3 66.  13.6 21.5 10.3 12.\n",
      " 19.5 13.9 51.8 60.2 56.9 49.1 59.9 56.3 11.6 30.5 33.4 54.3 11.4 30.\n",
      "  8.9 17.  18.3 47.8 61.8 61.9 68.9 64.5 53.2 61.2 64.8 63.6 66.3 25.3\n",
      "  8.8 14.2 44.3 61.4 63.2 60.1 44.5 54.6 62.  43.8 46.7  8.6 10.1 15.5\n",
      " 18.8 16.4  7.8 24.8 50.9 49.6 17.8 10.8 11.2  9.2 47.7 13.8 12.9 58.8\n",
      " 50.  10.6 10.5  7.3  2.1 44.  50.4 62.8 43.5 46.4 55.1 48.  49.8 12.7\n",
      " 11.1  8.5 66.1 70.2 60.7 10.   9.6  8.3 13.5  9.8 51.5 56.1 55.  58.3\n",
      " 57.7 66.4 12.1  6.2 54.9 59.8 46.8 52.4 57.3 58.4 14.6 13.1 48.4 48.1\n",
      " 54.7 48.6 46.2 62.3 45.4 11.5 47.2 51.1  4.3 58.5 63.1 55.8 62.6 60.4\n",
      " 61.7 48.2 69.3 66.7 60.5 59.1 70.  65.8 74.6 64.4 52.9 70.9 50.6 53.7\n",
      "  3.2 47.  57.   9.5 52.3 55.7 56.4 66.9 65.7 54.8  4.8 63.7 53.8 60.3\n",
      "  6.9 62.2 49.4 46.5 62.7 60.8 52.  56.5 58.7 53.3 11.  53.9 64.9 57.8\n",
      " 56.8 52.1 57.5 58.  59.   6.1 73.8 62.5  9.4 63.  65.   6.8  5.8 64.1\n",
      " 65.4 71.5 67.3 67.4  6.5  6.   5.6 60.  67.   5.7  3.   6.4  7.7 55.6\n",
      " 69.6  7.6  7.1  8.2 70.3 63.9  7.9 63.8 70.7 61.1 66.5 69.1 71.6 67.1\n",
      " 62.1 64.2 63.5 61.  77.6 60.9 70.4 65.6 62.9  3.6  4.6  3.4  4.1  5.1\n",
      "  6.3  5.2]\n",
      "Data_Value_Footnote_Symbol :  [nan '~']\n",
      "Data_Value_Footnote :  [nan 'Data not available because sample size is insufficient.'\n",
      " 'Data not available because sample size is insufficient.  If data only missing for the confidence interval, the confidence interval was not calculated.']\n",
      "Low_Confidence_Limit :  [29.9 31.  12.6 31.6 33.4 34.4 31.1 29.7 20.7 36.9  nan 18.4 36.5 29.2\n",
      " 32.1 21.6 29.4 35.7 24.4 31.7 31.9 27.2 18.  33.  33.1 36.2 38.2 38.1\n",
      " 38.7 38.4 40.4 40.5 44.  45.2 46.9 24.2 30.4 18.2 25.8 20.5 19.1 31.2\n",
      " 24.7 16.1 22.2 32.9  9.9 40.7 37.6 37.9 49.5 37.2 22.7 14.5 40.9 44.1\n",
      " 49.6 41.1 24.6 25.7 13.8 11.5 11.2 19.9 13.1 10.2  9.2  8.5 13.2 12.9\n",
      "  5.1 11.3 22.5 21.  20.3 27.  19.4 20.9 18.6 20.6 19.7 19.3 12.3 23.3\n",
      " 20.4 14.8 22.4 21.4 11.6 25.9 17.1 17.6 30.8 17.3 23.1 32.  37.4 35.\n",
      " 35.4 31.8 29.5 18.9 30.3 37.5 36.6 30.6 24.8 41.  28.8 10.1 37.3 26.5\n",
      " 21.3 32.7 32.8 35.2 33.7 27.6 38.8 24.3 31.5 36.3 22.8 28.2 27.5 17.7\n",
      " 15.4 28.3 29.  32.2 14.4 34.1 32.5 32.4 26.7 23.4 27.8 15.6 34.  31.3\n",
      " 29.8 35.6 28.6 10.3 43.8 43.7 40.2 40.  40.6 38.9  9.  46.2 26.9 24.1\n",
      " 13.7 25.5 21.5 21.7 31.4 42.4 35.9 37.7 51.3 45.  22.3 43.3 45.8 14.6\n",
      " 11.1 10.4 16.5 12.1  9.8 15.7 14.  22.6 29.6 27.1 25.4 20.  23.2 19.\n",
      " 10.9 32.3 33.5 26.2 23.5 30.2 30.7 36.8 17.  30.9 34.5 20.8 27.9 34.9\n",
      " 26.  27.4 36.7 20.1 26.3 16.8 19.2 14.2 25.3 23.9 25.2 18.3 23.6 41.8\n",
      " 27.3 33.6 17.9 35.8 37.  23.  33.3 39.3 42.7 13.9 28.4 12.8 12.5 21.2\n",
      " 11.4 55.4 54.  63.3 51.4 53.3 46.6 48.3 53.2 45.6 35.1 19.6 26.8 15.8\n",
      " 16.9 16.4 35.3 34.3 26.1 39.4 30.  25.6 27.7 21.9 43.4 25.  18.1 20.2\n",
      " 14.1 22.  18.5 18.8 15.1 21.8 26.6 17.4 23.8  6.2 16.  25.1 15.  41.3\n",
      " 36.1 19.5 17.8  8.8 16.7 24.  34.7 30.1 47.8 48.  44.4 13.5  8.7 52.8\n",
      " 57.1 55.6 42.2 64.7 50.8 52.6 49.4 48.4 10.8 11.8 17.5 26.4 28.5 16.3\n",
      " 39.1 33.9 22.1 12.4 24.9 37.1 33.8 34.2  7.2 23.7 10.   6.8 22.9 42.5\n",
      " 35.5 14.9 39.7  9.3 15.9  2.8 50.4 47.6 43.  43.1 56.4 54.4 54.9 54.5\n",
      " 13.6 21.1 41.9 30.5 28.1 19.8 16.6 11.   6.3 24.5 32.6 17.2 11.7  9.7\n",
      " 41.5 12.  39.  16.2 28.7 29.3 39.2 55.  48.8 49.8 55.7 53.  38.5 51.1\n",
      " 10.6 29.1 39.5 36.  18.7 10.7 15.2  3.3 13.  38.  37.8 40.1 46.7 42.9\n",
      " 47.4 46.5 48.9 44.7 42.1  6.1 11.9  7.8  9.6 28.9 45.3 42.3 34.6 49.\n",
      " 53.7 47.3 44.6 53.1 47.2 48.7 15.3  4.9  5.8 36.4 28.  33.2 12.7  9.4\n",
      " 57.3 41.7 59.7 64.5 57.  62.5 47.1 65.  64.1 47.9 59.1 38.3 14.7  7.9\n",
      " 10.5  9.1  5.7 12.2  6.5 39.8 57.2 46.4 54.1 45.7 56.2 58.   9.5 34.8\n",
      " 43.6 41.4 40.3  7.6 15.5 60.5 60.2 52.5 67.2 62.4 49.2 57.7 66.8 63.4\n",
      " 47.5 14.3 42.8  8.2  5.  58.8 61.1 58.5 50.  53.9 58.3 50.7 57.6 13.4\n",
      "  6.7  6.9 45.4 48.5  4.7  8.3 41.2  7.3 49.7 41.6 56.   7.1  3.2  0.4\n",
      " 54.2 44.3 45.1 55.8 44.8 47.  47.7 45.9  8.1 13.3  4.2  4.8  4.1 55.2\n",
      " 51.5 67.3 39.9  8.4  6.4  8.6  8.9  7.7 51.7 52.  62.8  7.4  8.   5.5\n",
      "  2.6 53.8 52.1 49.3 44.5 53.5 49.1 45.5 46.3 43.2 39.6 42.6 59.9 56.8\n",
      " 38.6 46.1 40.8 43.9 48.2  5.9  1.3 42.  56.7 52.2 60.6 51.9 59.6 50.9\n",
      " 59.  57.8 64.3 59.8 54.3 63.1 67.  53.6 62.6 53.4 52.9 62.1  6.   6.6\n",
      " 51.6 43.5 52.3  7.5 46.8 57.5 50.3 50.5 44.9  1.6  5.4 51.  46.  55.5\n",
      " 65.2 63.9  5.2 44.2 50.6  2.7 56.6 54.7 55.3 51.8 61.7 58.1  3.  60.\n",
      " 49.9 60.8 52.4 58.6 54.8 56.3 48.1 61.8 50.1 61.3 56.5  7.  57.4  5.3\n",
      " 52.7 51.2  5.6 61.4 58.4  4.  48.6 56.1 55.1  4.4 58.2 61.9  4.3 62.2\n",
      " 62.9 69.   3.5  1.2  2.   3.8  1.7 50.2  3.1  3.4  1.4  3.6 54.6 60.3\n",
      " 66.7 68.  61.  61.6 60.4  2.9 61.2  4.6 55.9 63.  63.5 68.2 59.4 57.9\n",
      " 66.4 59.2 64.6 60.7 58.9  2.5  4.5  3.9  0.7  1. ]\n",
      "High_Confidence_Limit  :  [34.7 37.6 36.8 20.9 39.6 39.5 42.8 40.8 38.8 27.3 43.3  nan 51.7 41.6\n",
      " 37.5 38.1 33.3 42.2 32.6 40.7 40.3 33.2 48.8 37.9 39.1 42.1 44.3 45.\n",
      " 47.9 49.2 50.6 49.8 55.8 29.  23.5 27.4 24.3 40.  34.5 30.3 42.5 44.\n",
      " 43.7 55.7 46.7 28.4 19.3 45.9 40.5 53.3 57.3 62.4 16.3 14.3 15.6 25.4\n",
      " 20.  15.  12.4 13.9 20.3 24.7 15.9 29.4 24.5 25.1 30.1 27.7 26.6 26.3\n",
      " 26.4 29.9 27.2 25.9 25.  39.9 26.2 21.5 25.7 21.8 57.2 36.2 23.7 23.3\n",
      " 34.1 37.2 22.  31.7 42.3 42.4 32.  11.2 38.  59.1 39.4 37.3 29.7 43.2\n",
      " 45.2 33.6 38.6 32.3 47.2 32.2 31.3 34.4 38.4 32.1 34.8 42.  46.1 66.\n",
      " 28.6 20.1 37.  44.6 31.5 35.2 33.1 47.7 50.7 33.5 38.3 41.1 35.8 30.7\n",
      " 45.6 33.  39.3 44.1 39.  44.2 38.2 46.  29.1 41.5 47.5 58.2 53.9 50.4\n",
      " 54.9 52.6 50.2 49.1 46.6 68.5 11.4 52.3 19.4 23.8 27.5 21.2 31.1 30.6\n",
      " 22.6 44.8 56.7 45.7 41.7 59.6 22.1 60.1 28.2 52.9 39.8 17.4 15.1 25.6\n",
      " 17.7 13.1 17.9 19.6 17.3 36.  28.5 27.8 30.9 24.1 24.8 24.4 25.5 32.5\n",
      " 37.8 29.6 47.6 35.  37.1 45.1 39.7 34.3 31.9 35.5 41.3 33.8 36.3 47.3\n",
      " 49.5 16.8 34.9 35.9 27.6 37.7 29.2 32.4 48.9 44.4 44.5 40.4 43.6 32.7\n",
      " 51.5 53.5 41.2 51.4 49.9 52.4 65.9 18.8 23.1 19.9 34.6 21.4 36.6 27.\n",
      " 60.4 60.7 54.7 70.9 63.5 61.  63.  65.1 66.9 65.  59.7 58.4 64.7 31.6\n",
      " 30.2 43.9 24.2 29.5 26.1 31.4 30.  22.8 40.1 47.4 41.8 48.7 36.1 28.8\n",
      " 57.7 24.  27.1 31.  15.3 23.  30.5 32.9 33.4 12.9 54.8 43.  46.2 45.4\n",
      " 43.5 52.8 53.6 13.4 16.6 24.6 34.2 27.9 17.6 54.4 36.9 35.1 28.1 46.3\n",
      " 47.8 42.6 46.8 49.3 43.1 60.3 52.2 21.  32.8 21.7 17.1 15.4 18.6 56.9\n",
      " 59.  63.9 60.5 65.3 61.5 71.1 63.6 66.3 52.7 59.2 58.3 23.6 43.4 48.2\n",
      " 43.8 50.3 51.2 30.4 14.2 35.6 30.8 55.6 48.1 10.6 15.7 26.8 14.9 17.8\n",
      " 18.2 29.3 25.8 49.7 44.7 36.5 59.8 42.9 28.9 40.9 41.9 55.2 49.6 55.9\n",
      " 22.9 14.6 20.8 20.6 26.9 55.1 53.8 52.  58.8 62.9 68.4 64.  48.5 77.4\n",
      " 22.3 25.2 54.  35.3 33.7 45.5 60.8 60.  64.9 26.  38.5 17.  34.  24.9\n",
      " 40.6 47.  57.6 16.  21.1 64.3 46.4 49.  71.4 50.1 29.8 35.7 63.3 58.5\n",
      " 66.7 65.7 56.5 31.8 36.7 45.8 48.3 31.2 18.  21.9 38.7 12.7 42.7 22.4\n",
      " 21.3 28.  18.4 38.9 28.7 47.1 51.8 57.4 70.1 57.8 62.2 48.  56.3 51.6\n",
      " 20.4 12.3 20.7 39.2 25.3 35.4 63.1 54.5 56.1 64.8 61.3 55.5 58.7 64.5\n",
      " 62.3 20.2  8.6 18.7 11.6 11.1 12.  40.2 23.9 54.3 51.3 67.2 19.5 36.4\n",
      " 45.3 10.4 37.4 15.5 12.6 22.5 67.9 55.  61.6 66.1 53.2 59.9 66.5 70.6\n",
      " 72.3 21.6 18.3 20.5 51.  50.5 16.9 23.2 28.3 15.2 13.5 33.9 13.3 16.1\n",
      " 61.7 17.5 14.4 15.8 68.7 58.9 52.5 19.  41.4 17.2 22.7 18.1 26.5 13.2\n",
      " 16.4 18.5 13.7 63.2 57.1 64.2 61.9 76.1 79.8 44.9  9.9 19.8 22.2 14.5\n",
      " 19.7 14.7 19.2 19.1 65.2 72.4 61.8 67.1 66.2 18.9  9.5 11.3 16.5 26.7\n",
      "  8.3  8.9 14.1 50.  55.4 57.5 50.8 16.2 46.5 57.9 53.4 55.3 53.7 50.9\n",
      " 23.4 12.1 63.8 56.4 11.9 48.4 56.8 51.9 41.  68.8 51.1 56.6 57.  13.6\n",
      " 13.  12.5 10.5 59.3 62.8 73.1 56.2 79.9 10.3 56.  10.1  8.5 58.1 61.1\n",
      " 63.7 74.6 69.9 11.8 13.8 53.  70.2 58.  58.6 67.4 71.7 65.8 66.4 10.7\n",
      " 52.1 48.6 64.6 49.4 59.5 16.7 12.8 53.1 69.4 46.9 60.2 65.6 65.5 61.4\n",
      " 65.4 69.2 14.  81.6 69.  72.8 68.9 70.  84.6 61.2 67.6 64.4 83.  10.9\n",
      " 54.6 54.1 75.  62.5  7.8 62.1 14.8 60.6 62.6 54.2 68.1 63.4 68.6 59.4\n",
      " 69.8 11.5 71.9 60.9 80.7  8.2 62.  62.7 71.8 67.7 77.5 67.  74.8 12.2\n",
      " 66.8 71.  11.7 72.1 78.3 78.9 83.9 73.6 66.6 64.1 78.5  7.9 67.8 74.\n",
      " 72.2 82.9 73.9 69.7  6.3  9.1  9.8 69.6  9.6 74.7 72.9  8.8 10.8 10.2\n",
      " 84.  75.6 69.3 73.  68.  69.1 70.8 76.  67.3 76.9 71.3 70.3 73.7 78.7\n",
      " 80.6 83.4 76.8 75.5 81.2 79.6 76.2 86.8 75.4 72.6 70.7 73.4 74.2  5.1\n",
      "  6.2 67.5 11.   9.3  8.  10.   9.7]\n",
      "Sample_Size :  [2581. 1153. 1925. ... 6415. 3630. 5715.]\n",
      "Total :  [nan 'Total']\n",
      "Age(years) :  [nan '18 - 24' '35 - 44' '55 - 64' '65 or older' '25 - 34' '45 - 54']\n",
      "Education :  [nan 'Less than high school' 'Some college or technical school'\n",
      " 'College graduate' 'High school graduate']\n",
      "Gender :  ['Male' nan 'Female']\n",
      "Income :  [nan 'Less than $15,000' '$25,000 - $34,999' '$50,000 - $74,999'\n",
      " 'Data not reported' '$15,000 - $24,999' '$35,000 - $49,999'\n",
      " '$75,000 or greater']\n",
      "Race/Ethnicity :  [nan 'Non-Hispanic Black' 'Asian' 'American Indian/Alaska Native' 'Other'\n",
      " 'Hawaiian/Pacific Islander' '2 or more races' 'Non-Hispanic White'\n",
      " 'Hispanic']\n",
      "GeoLocation :  ['(32.84057112200048, -86.63186076199969)' nan\n",
      " '(64.84507995700051, -147.72205903599973)'\n",
      " '(34.865970280000454, -111.76381127699972)'\n",
      " '(34.74865012400045, -92.27449074299966)'\n",
      " '(37.63864012300047, -120.99999953799971)'\n",
      " '(41.56266102000046, -72.64984095199964)'\n",
      " '(38.843840757000464, -106.13361092099967)'\n",
      " '(39.008830667000495, -75.57774116799965)'\n",
      " '(28.932040377000476, -81.92896053899966)'\n",
      " '(38.89037138500049, -77.03196112699965)'\n",
      " '(32.83968109300048, -83.62758034599966)' '(13.444304, 144.793731)'\n",
      " '(21.304850435000446, -157.85774940299973)'\n",
      " '(43.682630005000476, -114.3637300419997)'\n",
      " '(40.48501028300046, -88.99771017799969)'\n",
      " '(39.766910452000445, -86.14996019399968)'\n",
      " '(42.46940091300047, -93.81649055599968)'\n",
      " '(38.34774030000045, -98.20078122699965)'\n",
      " '(37.645970271000465, -84.77497104799966)'\n",
      " '(31.31266064400046, -92.44568007099969)'\n",
      " '(45.254228894000505, -68.98503133599962)'\n",
      " '(39.29058096400047, -76.60926011099963)'\n",
      " '(42.27687047000046, -72.08269067499964)'\n",
      " '(44.6613195430005, -84.71439026999968)'\n",
      " '(46.35564873600049, -94.79420050299967)'\n",
      " '(32.745510099000455, -89.53803082499968)'\n",
      " '(38.635790776000476, -92.56630005299968)'\n",
      " '(47.06652897200047, -109.42442064499971)'\n",
      " '(41.6410409880005, -99.36572062299967)'\n",
      " '(39.493240390000494, -117.07184056399967)'\n",
      " '(43.65595011300047, -71.50036091999965)'\n",
      " '(40.13057004800049, -74.27369128799967)'\n",
      " '(34.52088095200048, -106.24058098499967)'\n",
      " '(42.82700103200045, -75.54397042699964)'\n",
      " '(35.466220975000454, -79.15925046299964)'\n",
      " '(47.47531977900047, -100.11842104899966)'\n",
      " '(40.06021014100048, -82.40426005599966)'\n",
      " '(35.47203135600046, -97.52107021399968)'\n",
      " '(44.56744942400047, -120.15503132599969)'\n",
      " '(40.79373015200048, -77.86070029399963)' '(18.220833, -66.590149)'\n",
      " '(41.70828019300046, -71.52247031399963)'\n",
      " '(33.998821303000454, -81.04537120699968)'\n",
      " '(44.353130053000484, -100.3735306369997)'\n",
      " '(35.68094058000048, -85.77449091399967)'\n",
      " '(31.827240407000488, -99.42677020599967)'\n",
      " '(39.360700171000474, -111.58713063499971)'\n",
      " '(43.62538123900049, -72.51764079099962)'\n",
      " '(37.54268067400045, -78.45789046299967)'\n",
      " '(47.52227862900048, -120.47001078999972)'\n",
      " '(44.39319117400049, -89.81637074199966)'\n",
      " '(43.23554134300048, -108.10983035299967)'\n",
      " '(38.66551020200046, -80.71264013499967)' '(18.335765, -64.896335)']\n",
      "ClassID :  ['OWS' 'FV' 'PA']\n",
      "TopicID :  ['OWS1' 'FV1' 'PA1']\n",
      "QuestionID :  ['Q036' 'Q037' 'Q018' 'Q019' 'Q043' 'Q046' 'Q044' 'Q045' 'Q047']\n",
      "DataValueTypeID :  ['VALUE']\n",
      "LocationID :  [ 1 59  2  4  5  6  9  8 10 12 11 13 66 15 16 17 18 19 20 21 22 23 24 25\n",
      " 26 27 28 29 30 31 32 33 34 35 36 37 38 39 40 41 42 72 44 45 46 47 48 49\n",
      " 50 51 53 55 56 54 78]\n",
      "StratificationCategory1 :  ['Gender' 'Education' 'Age (years)' 'Income' 'Race/Ethnicity' 'Total']\n",
      "Stratification1 :  ['Male' 'Less than high school' 'Some college or technical school'\n",
      " '18 - 24' '35 - 44' '55 - 64' 'Less than $15,000' '$25,000 - $34,999'\n",
      " '$50,000 - $74,999' 'Data not reported' 'Non-Hispanic Black' 'Asian'\n",
      " 'American Indian/Alaska Native' 'Other' '65 or older' 'College graduate'\n",
      " 'Female' '25 - 34' 'High school graduate' 'Hawaiian/Pacific Islander'\n",
      " '2 or more races' 'Total' '$15,000 - $24,999' '$35,000 - $49,999'\n",
      " '$75,000 or greater' 'Non-Hispanic White' 'Hispanic' '45 - 54']\n",
      "StratificationCategoryId1 :  ['GEN' 'EDU' 'AGEYR' 'INC' 'RACE' 'OVR']\n",
      "StratificationID1 :  ['MALE' 'EDUHS' 'EDUCOTEC' 'AGEYR1824' 'AGEYR3544' 'AGEYR5564' 'INCLESS15'\n",
      " 'INC2535' 'INC5075' 'INCNR' 'RACEBLK' 'RACEASN' 'RACENAA' 'RACEOTH'\n",
      " 'AGEYR65PLUS' 'EDUCOGRAD' 'FEMALE' 'AGEYR2534' 'EDUHSGRAD' 'RACEHPI'\n",
      " 'RACE2PLUS' 'OVERALL' 'INC1525' 'INC3550' 'INC75PLUS' 'RACEWHT' 'RACEHIS'\n",
      " 'AGEYR4554']\n"
     ]
    }
   ],
   "source": [
    "# Looking for unique values by columns\n",
    "for columns in dataset.columns:\n",
    "    print(columns,\": \",dataset[columns].unique())"
   ]
  },
  {
   "cell_type": "code",
   "execution_count": 11,
   "id": "9ae13b90",
   "metadata": {},
   "outputs": [],
   "source": [
    "# # Deleted data because they are repeated (The same data or abbreviations), or contain empty values\n",
    "dataset = dataset.drop(columns = \"Data_Value_Unit\")\n",
    "dataset = dataset.drop(columns = \"Total\")\n",
    "dataset = dataset.drop(columns = \"Datasource\")\n",
    "dataset = dataset.drop(columns = \"Data_Value_Type\")\n",
    "dataset = dataset.drop(columns = \"Data_Value_Footnote_Symbol\")\n",
    "dataset = dataset.drop(columns = \"DataValueTypeID\")\n",
    "dataset = dataset.drop(columns = \"LocationAbbr\")\n",
    "dataset = dataset.drop(columns = \"Data_Value_Footnote\")\n",
    "dataset = dataset.drop(columns = \"GeoLocation\")\n",
    "dataset = dataset.drop(columns = \"LocationID\")\n",
    "dataset = dataset.drop(columns = \"TopicID\")\n",
    "dataset = dataset.drop(columns = \"ClassID\")\n",
    "dataset = dataset.drop(columns = \"Gender\")\n",
    "dataset = dataset.drop(columns = \"Education\")\n",
    "dataset = dataset.drop(columns = \"Age(years)\")\n",
    "dataset = dataset.drop(columns = \"Race/Ethnicity\")\n",
    "dataset = dataset.drop(columns = \"Income\")"
   ]
  },
  {
   "cell_type": "code",
   "execution_count": 12,
   "id": "50db89f4",
   "metadata": {
    "scrolled": true
   },
   "outputs": [
    {
     "name": "stdout",
     "output_type": "stream",
     "text": [
      "YearStart :  [2011 2012 2014 2013 2015 2016]\n",
      "YearEnd :  [2011 2012 2014 2013 2015 2016]\n",
      "LocationDesc :  ['Alabama' 'National' 'Alaska' 'Arizona' 'Arkansas' 'California'\n",
      " 'Connecticut' 'Colorado' 'Delaware' 'Florida' 'District of Columbia'\n",
      " 'Georgia' 'Guam' 'Hawaii' 'Idaho' 'Illinois' 'Indiana' 'Iowa' 'Kansas'\n",
      " 'Kentucky' 'Louisiana' 'Maine' 'Maryland' 'Massachusetts' 'Michigan'\n",
      " 'Minnesota' 'Mississippi' 'Missouri' 'Montana' 'Nebraska' 'Nevada'\n",
      " 'New Hampshire' 'New Jersey' 'New Mexico' 'New York' 'North Carolina'\n",
      " 'North Dakota' 'Ohio' 'Oklahoma' 'Oregon' 'Pennsylvania' 'Puerto Rico'\n",
      " 'Rhode Island' 'South Carolina' 'South Dakota' 'Tennessee' 'Texas' 'Utah'\n",
      " 'Vermont' 'Virginia' 'Washington' 'Wisconsin' 'Wyoming' 'West Virginia'\n",
      " 'Virgin Islands']\n",
      "Class :  ['Obesity / Weight Status' 'Fruits and Vegetables' 'Physical Activity']\n",
      "Topic :  ['Obesity / Weight Status' 'Fruits and Vegetables - Behavior'\n",
      " 'Physical Activity - Behavior']\n",
      "Question :  ['Percent of adults aged 18 years and older who have obesity'\n",
      " 'Percent of adults aged 18 years and older who have an overweight classification'\n",
      " 'Percent of adults who report consuming fruit less than one time daily'\n",
      " 'Percent of adults who report consuming vegetables less than one time daily'\n",
      " 'Percent of adults who achieve at least 150 minutes a week of moderate-intensity aerobic physical activity or 75 minutes a week of vigorous-intensity aerobic activity (or an equivalent combination)'\n",
      " 'Percent of adults who engage in muscle-strengthening activities on 2 or more days a week'\n",
      " 'Percent of adults who achieve at least 150 minutes a week of moderate-intensity aerobic physical activity or 75 minutes a week of vigorous-intensity aerobic physical activity and engage in muscle-strengthening activities on 2 or more days a week'\n",
      " 'Percent of adults who achieve at least 300 minutes a week of moderate-intensity aerobic physical activity or 150 minutes a week of vigorous-intensity aerobic activity (or an equivalent combination)'\n",
      " 'Percent of adults who engage in no leisure-time physical activity']\n",
      "Data_Value :  [32.3 33.6 33.8 16.3 35.5 36.4 38.5 35.8 34.1 23.8 40.1  nan 32.9 39.\n",
      " 33.2 35.  27.1 33.3 38.9 28.4 35.7 36.1 36.  30.1 31.4 35.4 39.5 41.2\n",
      " 41.8 43.1 44.8 45.5 46.9 47.9 51.4 26.6 34.5 20.8 21.6 29.4 19.9 26.\n",
      " 22.1 42.4 39.6 40.8 52.6 41.9 25.4 16.8 43.4 36.7 48.7 53.5 43.  37.9\n",
      " 15.  12.8 13.2 22.6 12.4 10.7 10.9 16.5 21.2 14.3 13.  23.2 23.9 22.7\n",
      " 27.3 27.4 22.8 23.5 22.3 25.  22.  23.4 24.7 19.8 22.9 18.1 26.2 37.6\n",
      " 21.4 20.2 20.3 32.6 35.3 33.5 19.6 27.2 39.8 38.6 27.9  9.7 34.8 41.6\n",
      " 31.8 35.2 34.4 40.3 29.  44.1 30.4 18.5 39.7 30.3 35.6 26.4 34.2 28.2\n",
      " 37.5 34.3 28.  21.3 15.2 40.4 26.9 20.6 31.6 30.2 30.7 30.9 19.  37.1\n",
      " 37.2 36.6 31.1 29.6 35.1 41.5 33.9 40.7 28.9 44.2 51.2 48.8 47.1 49.3\n",
      " 46.3 45.1 42.7 51.  10.2 15.9 29.9 25.8 17.1 25.7 25.9 49.5 40.9 36.3\n",
      " 55.5 21.7 25.1 48.3 49.9 49.  12.6 12.5 24.4 20.7 14.7 11.3 18.7 15.6\n",
      " 30.6 24.  25.6 31.7 28.3 19.1 34.6 24.9 20.9 26.7 25.5 23.6 23.1 34.\n",
      " 34.9 27.8 42.1 29.7 22.2 20.4 37.4 24.3 31.  26.3 31.3 32.2 27.6 32.7\n",
      " 14.8 33.7 37.  16.6 16.2 33.1 29.2 29.3 24.5 31.5 23.3 45.3 32.  24.6\n",
      " 38.1 43.7 38.7 39.1 42.9 43.6 44.6 45.6 47.5 51.7 19.7 18.4 16.  27.\n",
      " 17.9 57.9 57.4 67.2 57.6 56.2 58.2 56.  59.3 52.7 52.2 28.1 20.1 25.2\n",
      " 21.1 26.1 17.4 37.7 43.3 38.8 46.6 40.  51.9 30.8 24.2 38.  42.3 28.8\n",
      " 19.2  9.  22.4 44.4 32.5 40.6 37.8 31.2 21.8 13.4 23.  29.8 38.3 39.3\n",
      " 38.2 42.8 39.9 54.5 36.8 48.9 57.2 28.6 27.7 15.8 11.7 50.1 55.9 60.6\n",
      " 58.1 54.  50.8 68.  59.6 47.4 54.4 53.4 20.5 19.4 16.9 28.7 27.5 42.5\n",
      " 35.9 40.5 14.4 11.9 41.3 44.7 37.3  8.7 21.  12.3 16.1 46.1 29.5 40.2\n",
      " 36.9 41.1 42.2 47.3 12.2 17.3 17.7 11.8 18.2 26.5  9.3 52.8 50.7 42.\n",
      " 52.5 59.7 61.6 59.5 57.1 42.6 62.4 20.  45.2 38.4 43.2 47.6 36.2 32.4\n",
      " 13.7 21.9 29.1 28.5 26.8 22.5 53.  39.4 41.7 41.  39.2 59.2 56.7 54.2\n",
      " 61.3 45.8 58.6 50.5 50.3 17.5 17.6 23.7 34.7 43.9 45.  18.9 18.6 41.4\n",
      " 13.3 15.7 32.1  6.6 24.1 19.3 49.2 51.3 55.3 49.7 48.5 55.4 16.7 18.\n",
      "  9.9 14.9 46.  54.1 55.2 51.6 59.4 53.1 58.9 17.2 44.9 45.9 15.1  5.4\n",
      " 14.5  9.1  7.4 15.4  8.4 32.8 45.7 36.5 31.9 53.6 15.3  8.1 33.  14.\n",
      " 10.4 14.1 61.5 66.2 64.3 50.2 56.6 66.8 65.3 66.  13.6 21.5 10.3 12.\n",
      " 19.5 13.9 51.8 60.2 56.9 49.1 59.9 56.3 11.6 30.5 33.4 54.3 11.4 30.\n",
      "  8.9 17.  18.3 47.8 61.8 61.9 68.9 64.5 53.2 61.2 64.8 63.6 66.3 25.3\n",
      "  8.8 14.2 44.3 61.4 63.2 60.1 44.5 54.6 62.  43.8 46.7  8.6 10.1 15.5\n",
      " 18.8 16.4  7.8 24.8 50.9 49.6 17.8 10.8 11.2  9.2 47.7 13.8 12.9 58.8\n",
      " 50.  10.6 10.5  7.3  2.1 44.  50.4 62.8 43.5 46.4 55.1 48.  49.8 12.7\n",
      " 11.1  8.5 66.1 70.2 60.7 10.   9.6  8.3 13.5  9.8 51.5 56.1 55.  58.3\n",
      " 57.7 66.4 12.1  6.2 54.9 59.8 46.8 52.4 57.3 58.4 14.6 13.1 48.4 48.1\n",
      " 54.7 48.6 46.2 62.3 45.4 11.5 47.2 51.1  4.3 58.5 63.1 55.8 62.6 60.4\n",
      " 61.7 48.2 69.3 66.7 60.5 59.1 70.  65.8 74.6 64.4 52.9 70.9 50.6 53.7\n",
      "  3.2 47.  57.   9.5 52.3 55.7 56.4 66.9 65.7 54.8  4.8 63.7 53.8 60.3\n",
      "  6.9 62.2 49.4 46.5 62.7 60.8 52.  56.5 58.7 53.3 11.  53.9 64.9 57.8\n",
      " 56.8 52.1 57.5 58.  59.   6.1 73.8 62.5  9.4 63.  65.   6.8  5.8 64.1\n",
      " 65.4 71.5 67.3 67.4  6.5  6.   5.6 60.  67.   5.7  3.   6.4  7.7 55.6\n",
      " 69.6  7.6  7.1  8.2 70.3 63.9  7.9 63.8 70.7 61.1 66.5 69.1 71.6 67.1\n",
      " 62.1 64.2 63.5 61.  77.6 60.9 70.4 65.6 62.9  3.6  4.6  3.4  4.1  5.1\n",
      "  6.3  5.2]\n",
      "Data_Value_Alt :  [32.3 33.6 33.8 16.3 35.5 36.4 38.5 35.8 34.1 23.8 40.1  nan 32.9 39.\n",
      " 33.2 35.  27.1 33.3 38.9 28.4 35.7 36.1 36.  30.1 31.4 35.4 39.5 41.2\n",
      " 41.8 43.1 44.8 45.5 46.9 47.9 51.4 26.6 34.5 20.8 21.6 29.4 19.9 26.\n",
      " 22.1 42.4 39.6 40.8 52.6 41.9 25.4 16.8 43.4 36.7 48.7 53.5 43.  37.9\n",
      " 15.  12.8 13.2 22.6 12.4 10.7 10.9 16.5 21.2 14.3 13.  23.2 23.9 22.7\n",
      " 27.3 27.4 22.8 23.5 22.3 25.  22.  23.4 24.7 19.8 22.9 18.1 26.2 37.6\n",
      " 21.4 20.2 20.3 32.6 35.3 33.5 19.6 27.2 39.8 38.6 27.9  9.7 34.8 41.6\n",
      " 31.8 35.2 34.4 40.3 29.  44.1 30.4 18.5 39.7 30.3 35.6 26.4 34.2 28.2\n",
      " 37.5 34.3 28.  21.3 15.2 40.4 26.9 20.6 31.6 30.2 30.7 30.9 19.  37.1\n",
      " 37.2 36.6 31.1 29.6 35.1 41.5 33.9 40.7 28.9 44.2 51.2 48.8 47.1 49.3\n",
      " 46.3 45.1 42.7 51.  10.2 15.9 29.9 25.8 17.1 25.7 25.9 49.5 40.9 36.3\n",
      " 55.5 21.7 25.1 48.3 49.9 49.  12.6 12.5 24.4 20.7 14.7 11.3 18.7 15.6\n",
      " 30.6 24.  25.6 31.7 28.3 19.1 34.6 24.9 20.9 26.7 25.5 23.6 23.1 34.\n",
      " 34.9 27.8 42.1 29.7 22.2 20.4 37.4 24.3 31.  26.3 31.3 32.2 27.6 32.7\n",
      " 14.8 33.7 37.  16.6 16.2 33.1 29.2 29.3 24.5 31.5 23.3 45.3 32.  24.6\n",
      " 38.1 43.7 38.7 39.1 42.9 43.6 44.6 45.6 47.5 51.7 19.7 18.4 16.  27.\n",
      " 17.9 57.9 57.4 67.2 57.6 56.2 58.2 56.  59.3 52.7 52.2 28.1 20.1 25.2\n",
      " 21.1 26.1 17.4 37.7 43.3 38.8 46.6 40.  51.9 30.8 24.2 38.  42.3 28.8\n",
      " 19.2  9.  22.4 44.4 32.5 40.6 37.8 31.2 21.8 13.4 23.  29.8 38.3 39.3\n",
      " 38.2 42.8 39.9 54.5 36.8 48.9 57.2 28.6 27.7 15.8 11.7 50.1 55.9 60.6\n",
      " 58.1 54.  50.8 68.  59.6 47.4 54.4 53.4 20.5 19.4 16.9 28.7 27.5 42.5\n",
      " 35.9 40.5 14.4 11.9 41.3 44.7 37.3  8.7 21.  12.3 16.1 46.1 29.5 40.2\n",
      " 36.9 41.1 42.2 47.3 12.2 17.3 17.7 11.8 18.2 26.5  9.3 52.8 50.7 42.\n",
      " 52.5 59.7 61.6 59.5 57.1 42.6 62.4 20.  45.2 38.4 43.2 47.6 36.2 32.4\n",
      " 13.7 21.9 29.1 28.5 26.8 22.5 53.  39.4 41.7 41.  39.2 59.2 56.7 54.2\n",
      " 61.3 45.8 58.6 50.5 50.3 17.5 17.6 23.7 34.7 43.9 45.  18.9 18.6 41.4\n",
      " 13.3 15.7 32.1  6.6 24.1 19.3 49.2 51.3 55.3 49.7 48.5 55.4 16.7 18.\n",
      "  9.9 14.9 46.  54.1 55.2 51.6 59.4 53.1 58.9 17.2 44.9 45.9 15.1  5.4\n",
      " 14.5  9.1  7.4 15.4  8.4 32.8 45.7 36.5 31.9 53.6 15.3  8.1 33.  14.\n",
      " 10.4 14.1 61.5 66.2 64.3 50.2 56.6 66.8 65.3 66.  13.6 21.5 10.3 12.\n",
      " 19.5 13.9 51.8 60.2 56.9 49.1 59.9 56.3 11.6 30.5 33.4 54.3 11.4 30.\n",
      "  8.9 17.  18.3 47.8 61.8 61.9 68.9 64.5 53.2 61.2 64.8 63.6 66.3 25.3\n",
      "  8.8 14.2 44.3 61.4 63.2 60.1 44.5 54.6 62.  43.8 46.7  8.6 10.1 15.5\n",
      " 18.8 16.4  7.8 24.8 50.9 49.6 17.8 10.8 11.2  9.2 47.7 13.8 12.9 58.8\n",
      " 50.  10.6 10.5  7.3  2.1 44.  50.4 62.8 43.5 46.4 55.1 48.  49.8 12.7\n",
      " 11.1  8.5 66.1 70.2 60.7 10.   9.6  8.3 13.5  9.8 51.5 56.1 55.  58.3\n",
      " 57.7 66.4 12.1  6.2 54.9 59.8 46.8 52.4 57.3 58.4 14.6 13.1 48.4 48.1\n",
      " 54.7 48.6 46.2 62.3 45.4 11.5 47.2 51.1  4.3 58.5 63.1 55.8 62.6 60.4\n",
      " 61.7 48.2 69.3 66.7 60.5 59.1 70.  65.8 74.6 64.4 52.9 70.9 50.6 53.7\n",
      "  3.2 47.  57.   9.5 52.3 55.7 56.4 66.9 65.7 54.8  4.8 63.7 53.8 60.3\n",
      "  6.9 62.2 49.4 46.5 62.7 60.8 52.  56.5 58.7 53.3 11.  53.9 64.9 57.8\n",
      " 56.8 52.1 57.5 58.  59.   6.1 73.8 62.5  9.4 63.  65.   6.8  5.8 64.1\n",
      " 65.4 71.5 67.3 67.4  6.5  6.   5.6 60.  67.   5.7  3.   6.4  7.7 55.6\n",
      " 69.6  7.6  7.1  8.2 70.3 63.9  7.9 63.8 70.7 61.1 66.5 69.1 71.6 67.1\n",
      " 62.1 64.2 63.5 61.  77.6 60.9 70.4 65.6 62.9  3.6  4.6  3.4  4.1  5.1\n",
      "  6.3  5.2]\n",
      "Low_Confidence_Limit :  [29.9 31.  12.6 31.6 33.4 34.4 31.1 29.7 20.7 36.9  nan 18.4 36.5 29.2\n",
      " 32.1 21.6 29.4 35.7 24.4 31.7 31.9 27.2 18.  33.  33.1 36.2 38.2 38.1\n",
      " 38.7 38.4 40.4 40.5 44.  45.2 46.9 24.2 30.4 18.2 25.8 20.5 19.1 31.2\n",
      " 24.7 16.1 22.2 32.9  9.9 40.7 37.6 37.9 49.5 37.2 22.7 14.5 40.9 44.1\n",
      " 49.6 41.1 24.6 25.7 13.8 11.5 11.2 19.9 13.1 10.2  9.2  8.5 13.2 12.9\n",
      "  5.1 11.3 22.5 21.  20.3 27.  19.4 20.9 18.6 20.6 19.7 19.3 12.3 23.3\n",
      " 20.4 14.8 22.4 21.4 11.6 25.9 17.1 17.6 30.8 17.3 23.1 32.  37.4 35.\n",
      " 35.4 31.8 29.5 18.9 30.3 37.5 36.6 30.6 24.8 41.  28.8 10.1 37.3 26.5\n",
      " 21.3 32.7 32.8 35.2 33.7 27.6 38.8 24.3 31.5 36.3 22.8 28.2 27.5 17.7\n",
      " 15.4 28.3 29.  32.2 14.4 34.1 32.5 32.4 26.7 23.4 27.8 15.6 34.  31.3\n",
      " 29.8 35.6 28.6 10.3 43.8 43.7 40.2 40.  40.6 38.9  9.  46.2 26.9 24.1\n",
      " 13.7 25.5 21.5 21.7 31.4 42.4 35.9 37.7 51.3 45.  22.3 43.3 45.8 14.6\n",
      " 11.1 10.4 16.5 12.1  9.8 15.7 14.  22.6 29.6 27.1 25.4 20.  23.2 19.\n",
      " 10.9 32.3 33.5 26.2 23.5 30.2 30.7 36.8 17.  30.9 34.5 20.8 27.9 34.9\n",
      " 26.  27.4 36.7 20.1 26.3 16.8 19.2 14.2 25.3 23.9 25.2 18.3 23.6 41.8\n",
      " 27.3 33.6 17.9 35.8 37.  23.  33.3 39.3 42.7 13.9 28.4 12.8 12.5 21.2\n",
      " 11.4 55.4 54.  63.3 51.4 53.3 46.6 48.3 53.2 45.6 35.1 19.6 26.8 15.8\n",
      " 16.9 16.4 35.3 34.3 26.1 39.4 30.  25.6 27.7 21.9 43.4 25.  18.1 20.2\n",
      " 14.1 22.  18.5 18.8 15.1 21.8 26.6 17.4 23.8  6.2 16.  25.1 15.  41.3\n",
      " 36.1 19.5 17.8  8.8 16.7 24.  34.7 30.1 47.8 48.  44.4 13.5  8.7 52.8\n",
      " 57.1 55.6 42.2 64.7 50.8 52.6 49.4 48.4 10.8 11.8 17.5 26.4 28.5 16.3\n",
      " 39.1 33.9 22.1 12.4 24.9 37.1 33.8 34.2  7.2 23.7 10.   6.8 22.9 42.5\n",
      " 35.5 14.9 39.7  9.3 15.9  2.8 50.4 47.6 43.  43.1 56.4 54.4 54.9 54.5\n",
      " 13.6 21.1 41.9 30.5 28.1 19.8 16.6 11.   6.3 24.5 32.6 17.2 11.7  9.7\n",
      " 41.5 12.  39.  16.2 28.7 29.3 39.2 55.  48.8 49.8 55.7 53.  38.5 51.1\n",
      " 10.6 29.1 39.5 36.  18.7 10.7 15.2  3.3 13.  38.  37.8 40.1 46.7 42.9\n",
      " 47.4 46.5 48.9 44.7 42.1  6.1 11.9  7.8  9.6 28.9 45.3 42.3 34.6 49.\n",
      " 53.7 47.3 44.6 53.1 47.2 48.7 15.3  4.9  5.8 36.4 28.  33.2 12.7  9.4\n",
      " 57.3 41.7 59.7 64.5 57.  62.5 47.1 65.  64.1 47.9 59.1 38.3 14.7  7.9\n",
      " 10.5  9.1  5.7 12.2  6.5 39.8 57.2 46.4 54.1 45.7 56.2 58.   9.5 34.8\n",
      " 43.6 41.4 40.3  7.6 15.5 60.5 60.2 52.5 67.2 62.4 49.2 57.7 66.8 63.4\n",
      " 47.5 14.3 42.8  8.2  5.  58.8 61.1 58.5 50.  53.9 58.3 50.7 57.6 13.4\n",
      "  6.7  6.9 45.4 48.5  4.7  8.3 41.2  7.3 49.7 41.6 56.   7.1  3.2  0.4\n",
      " 54.2 44.3 45.1 55.8 44.8 47.  47.7 45.9  8.1 13.3  4.2  4.8  4.1 55.2\n",
      " 51.5 67.3 39.9  8.4  6.4  8.6  8.9  7.7 51.7 52.  62.8  7.4  8.   5.5\n",
      "  2.6 53.8 52.1 49.3 44.5 53.5 49.1 45.5 46.3 43.2 39.6 42.6 59.9 56.8\n",
      " 38.6 46.1 40.8 43.9 48.2  5.9  1.3 42.  56.7 52.2 60.6 51.9 59.6 50.9\n",
      " 59.  57.8 64.3 59.8 54.3 63.1 67.  53.6 62.6 53.4 52.9 62.1  6.   6.6\n",
      " 51.6 43.5 52.3  7.5 46.8 57.5 50.3 50.5 44.9  1.6  5.4 51.  46.  55.5\n",
      " 65.2 63.9  5.2 44.2 50.6  2.7 56.6 54.7 55.3 51.8 61.7 58.1  3.  60.\n",
      " 49.9 60.8 52.4 58.6 54.8 56.3 48.1 61.8 50.1 61.3 56.5  7.  57.4  5.3\n",
      " 52.7 51.2  5.6 61.4 58.4  4.  48.6 56.1 55.1  4.4 58.2 61.9  4.3 62.2\n",
      " 62.9 69.   3.5  1.2  2.   3.8  1.7 50.2  3.1  3.4  1.4  3.6 54.6 60.3\n",
      " 66.7 68.  61.  61.6 60.4  2.9 61.2  4.6 55.9 63.  63.5 68.2 59.4 57.9\n",
      " 66.4 59.2 64.6 60.7 58.9  2.5  4.5  3.9  0.7  1. ]\n",
      "High_Confidence_Limit  :  [34.7 37.6 36.8 20.9 39.6 39.5 42.8 40.8 38.8 27.3 43.3  nan 51.7 41.6\n",
      " 37.5 38.1 33.3 42.2 32.6 40.7 40.3 33.2 48.8 37.9 39.1 42.1 44.3 45.\n",
      " 47.9 49.2 50.6 49.8 55.8 29.  23.5 27.4 24.3 40.  34.5 30.3 42.5 44.\n",
      " 43.7 55.7 46.7 28.4 19.3 45.9 40.5 53.3 57.3 62.4 16.3 14.3 15.6 25.4\n",
      " 20.  15.  12.4 13.9 20.3 24.7 15.9 29.4 24.5 25.1 30.1 27.7 26.6 26.3\n",
      " 26.4 29.9 27.2 25.9 25.  39.9 26.2 21.5 25.7 21.8 57.2 36.2 23.7 23.3\n",
      " 34.1 37.2 22.  31.7 42.3 42.4 32.  11.2 38.  59.1 39.4 37.3 29.7 43.2\n",
      " 45.2 33.6 38.6 32.3 47.2 32.2 31.3 34.4 38.4 32.1 34.8 42.  46.1 66.\n",
      " 28.6 20.1 37.  44.6 31.5 35.2 33.1 47.7 50.7 33.5 38.3 41.1 35.8 30.7\n",
      " 45.6 33.  39.3 44.1 39.  44.2 38.2 46.  29.1 41.5 47.5 58.2 53.9 50.4\n",
      " 54.9 52.6 50.2 49.1 46.6 68.5 11.4 52.3 19.4 23.8 27.5 21.2 31.1 30.6\n",
      " 22.6 44.8 56.7 45.7 41.7 59.6 22.1 60.1 28.2 52.9 39.8 17.4 15.1 25.6\n",
      " 17.7 13.1 17.9 19.6 17.3 36.  28.5 27.8 30.9 24.1 24.8 24.4 25.5 32.5\n",
      " 37.8 29.6 47.6 35.  37.1 45.1 39.7 34.3 31.9 35.5 41.3 33.8 36.3 47.3\n",
      " 49.5 16.8 34.9 35.9 27.6 37.7 29.2 32.4 48.9 44.4 44.5 40.4 43.6 32.7\n",
      " 51.5 53.5 41.2 51.4 49.9 52.4 65.9 18.8 23.1 19.9 34.6 21.4 36.6 27.\n",
      " 60.4 60.7 54.7 70.9 63.5 61.  63.  65.1 66.9 65.  59.7 58.4 64.7 31.6\n",
      " 30.2 43.9 24.2 29.5 26.1 31.4 30.  22.8 40.1 47.4 41.8 48.7 36.1 28.8\n",
      " 57.7 24.  27.1 31.  15.3 23.  30.5 32.9 33.4 12.9 54.8 43.  46.2 45.4\n",
      " 43.5 52.8 53.6 13.4 16.6 24.6 34.2 27.9 17.6 54.4 36.9 35.1 28.1 46.3\n",
      " 47.8 42.6 46.8 49.3 43.1 60.3 52.2 21.  32.8 21.7 17.1 15.4 18.6 56.9\n",
      " 59.  63.9 60.5 65.3 61.5 71.1 63.6 66.3 52.7 59.2 58.3 23.6 43.4 48.2\n",
      " 43.8 50.3 51.2 30.4 14.2 35.6 30.8 55.6 48.1 10.6 15.7 26.8 14.9 17.8\n",
      " 18.2 29.3 25.8 49.7 44.7 36.5 59.8 42.9 28.9 40.9 41.9 55.2 49.6 55.9\n",
      " 22.9 14.6 20.8 20.6 26.9 55.1 53.8 52.  58.8 62.9 68.4 64.  48.5 77.4\n",
      " 22.3 25.2 54.  35.3 33.7 45.5 60.8 60.  64.9 26.  38.5 17.  34.  24.9\n",
      " 40.6 47.  57.6 16.  21.1 64.3 46.4 49.  71.4 50.1 29.8 35.7 63.3 58.5\n",
      " 66.7 65.7 56.5 31.8 36.7 45.8 48.3 31.2 18.  21.9 38.7 12.7 42.7 22.4\n",
      " 21.3 28.  18.4 38.9 28.7 47.1 51.8 57.4 70.1 57.8 62.2 48.  56.3 51.6\n",
      " 20.4 12.3 20.7 39.2 25.3 35.4 63.1 54.5 56.1 64.8 61.3 55.5 58.7 64.5\n",
      " 62.3 20.2  8.6 18.7 11.6 11.1 12.  40.2 23.9 54.3 51.3 67.2 19.5 36.4\n",
      " 45.3 10.4 37.4 15.5 12.6 22.5 67.9 55.  61.6 66.1 53.2 59.9 66.5 70.6\n",
      " 72.3 21.6 18.3 20.5 51.  50.5 16.9 23.2 28.3 15.2 13.5 33.9 13.3 16.1\n",
      " 61.7 17.5 14.4 15.8 68.7 58.9 52.5 19.  41.4 17.2 22.7 18.1 26.5 13.2\n",
      " 16.4 18.5 13.7 63.2 57.1 64.2 61.9 76.1 79.8 44.9  9.9 19.8 22.2 14.5\n",
      " 19.7 14.7 19.2 19.1 65.2 72.4 61.8 67.1 66.2 18.9  9.5 11.3 16.5 26.7\n",
      "  8.3  8.9 14.1 50.  55.4 57.5 50.8 16.2 46.5 57.9 53.4 55.3 53.7 50.9\n",
      " 23.4 12.1 63.8 56.4 11.9 48.4 56.8 51.9 41.  68.8 51.1 56.6 57.  13.6\n",
      " 13.  12.5 10.5 59.3 62.8 73.1 56.2 79.9 10.3 56.  10.1  8.5 58.1 61.1\n",
      " 63.7 74.6 69.9 11.8 13.8 53.  70.2 58.  58.6 67.4 71.7 65.8 66.4 10.7\n",
      " 52.1 48.6 64.6 49.4 59.5 16.7 12.8 53.1 69.4 46.9 60.2 65.6 65.5 61.4\n",
      " 65.4 69.2 14.  81.6 69.  72.8 68.9 70.  84.6 61.2 67.6 64.4 83.  10.9\n",
      " 54.6 54.1 75.  62.5  7.8 62.1 14.8 60.6 62.6 54.2 68.1 63.4 68.6 59.4\n",
      " 69.8 11.5 71.9 60.9 80.7  8.2 62.  62.7 71.8 67.7 77.5 67.  74.8 12.2\n",
      " 66.8 71.  11.7 72.1 78.3 78.9 83.9 73.6 66.6 64.1 78.5  7.9 67.8 74.\n",
      " 72.2 82.9 73.9 69.7  6.3  9.1  9.8 69.6  9.6 74.7 72.9  8.8 10.8 10.2\n",
      " 84.  75.6 69.3 73.  68.  69.1 70.8 76.  67.3 76.9 71.3 70.3 73.7 78.7\n",
      " 80.6 83.4 76.8 75.5 81.2 79.6 76.2 86.8 75.4 72.6 70.7 73.4 74.2  5.1\n",
      "  6.2 67.5 11.   9.3  8.  10.   9.7]\n",
      "Sample_Size :  [2581. 1153. 1925. ... 6415. 3630. 5715.]\n",
      "QuestionID :  ['Q036' 'Q037' 'Q018' 'Q019' 'Q043' 'Q046' 'Q044' 'Q045' 'Q047']\n",
      "StratificationCategory1 :  ['Gender' 'Education' 'Age (years)' 'Income' 'Race/Ethnicity' 'Total']\n",
      "Stratification1 :  ['Male' 'Less than high school' 'Some college or technical school'\n",
      " '18 - 24' '35 - 44' '55 - 64' 'Less than $15,000' '$25,000 - $34,999'\n",
      " '$50,000 - $74,999' 'Data not reported' 'Non-Hispanic Black' 'Asian'\n",
      " 'American Indian/Alaska Native' 'Other' '65 or older' 'College graduate'\n",
      " 'Female' '25 - 34' 'High school graduate' 'Hawaiian/Pacific Islander'\n",
      " '2 or more races' 'Total' '$15,000 - $24,999' '$35,000 - $49,999'\n",
      " '$75,000 or greater' 'Non-Hispanic White' 'Hispanic' '45 - 54']\n",
      "StratificationCategoryId1 :  ['GEN' 'EDU' 'AGEYR' 'INC' 'RACE' 'OVR']\n",
      "StratificationID1 :  ['MALE' 'EDUHS' 'EDUCOTEC' 'AGEYR1824' 'AGEYR3544' 'AGEYR5564' 'INCLESS15'\n",
      " 'INC2535' 'INC5075' 'INCNR' 'RACEBLK' 'RACEASN' 'RACENAA' 'RACEOTH'\n",
      " 'AGEYR65PLUS' 'EDUCOGRAD' 'FEMALE' 'AGEYR2534' 'EDUHSGRAD' 'RACEHPI'\n",
      " 'RACE2PLUS' 'OVERALL' 'INC1525' 'INC3550' 'INC75PLUS' 'RACEWHT' 'RACEHIS'\n",
      " 'AGEYR4554']\n"
     ]
    }
   ],
   "source": [
    "# Once again check the dataset for unnecessary columns\n",
    "for columns in dataset.columns:\n",
    "    print(columns,\": \",dataset[columns].unique())"
   ]
  },
  {
   "cell_type": "code",
   "execution_count": 13,
   "id": "97bc81bf",
   "metadata": {},
   "outputs": [],
   "source": [
    "# Check the values for empty strings againdataset.isnull().sum().sort_values(ascending=False)"
   ]
  },
  {
   "cell_type": "code",
   "execution_count": 14,
   "id": "f441f57e",
   "metadata": {},
   "outputs": [
    {
     "data": {
      "text/html": [
       "<div>\n",
       "<style scoped>\n",
       "    .dataframe tbody tr th:only-of-type {\n",
       "        vertical-align: middle;\n",
       "    }\n",
       "\n",
       "    .dataframe tbody tr th {\n",
       "        vertical-align: top;\n",
       "    }\n",
       "\n",
       "    .dataframe thead th {\n",
       "        text-align: right;\n",
       "    }\n",
       "</style>\n",
       "<table border=\"1\" class=\"dataframe\">\n",
       "  <thead>\n",
       "    <tr style=\"text-align: right;\">\n",
       "      <th></th>\n",
       "      <th>Data_Value</th>\n",
       "      <th>Data_Value_Alt</th>\n",
       "    </tr>\n",
       "  </thead>\n",
       "  <tbody>\n",
       "    <tr>\n",
       "      <th>1</th>\n",
       "      <td>32.3</td>\n",
       "      <td>32.3</td>\n",
       "    </tr>\n",
       "    <tr>\n",
       "      <th>3</th>\n",
       "      <td>33.6</td>\n",
       "      <td>33.6</td>\n",
       "    </tr>\n",
       "    <tr>\n",
       "      <th>5</th>\n",
       "      <td>33.8</td>\n",
       "      <td>33.8</td>\n",
       "    </tr>\n",
       "    <tr>\n",
       "      <th>7</th>\n",
       "      <td>16.3</td>\n",
       "      <td>16.3</td>\n",
       "    </tr>\n",
       "    <tr>\n",
       "      <th>9</th>\n",
       "      <td>35.5</td>\n",
       "      <td>35.5</td>\n",
       "    </tr>\n",
       "    <tr>\n",
       "      <th>...</th>\n",
       "      <td>...</td>\n",
       "      <td>...</td>\n",
       "    </tr>\n",
       "    <tr>\n",
       "      <th>53383</th>\n",
       "      <td>25.3</td>\n",
       "      <td>25.3</td>\n",
       "    </tr>\n",
       "    <tr>\n",
       "      <th>53385</th>\n",
       "      <td>24.1</td>\n",
       "      <td>24.1</td>\n",
       "    </tr>\n",
       "    <tr>\n",
       "      <th>53387</th>\n",
       "      <td>NaN</td>\n",
       "      <td>NaN</td>\n",
       "    </tr>\n",
       "    <tr>\n",
       "      <th>53389</th>\n",
       "      <td>NaN</td>\n",
       "      <td>NaN</td>\n",
       "    </tr>\n",
       "    <tr>\n",
       "      <th>53391</th>\n",
       "      <td>NaN</td>\n",
       "      <td>NaN</td>\n",
       "    </tr>\n",
       "  </tbody>\n",
       "</table>\n",
       "<p>26696 rows × 2 columns</p>\n",
       "</div>"
      ],
      "text/plain": [
       "       Data_Value  Data_Value_Alt\n",
       "1            32.3            32.3\n",
       "3            33.6            33.6\n",
       "5            33.8            33.8\n",
       "7            16.3            16.3\n",
       "9            35.5            35.5\n",
       "...           ...             ...\n",
       "53383        25.3            25.3\n",
       "53385        24.1            24.1\n",
       "53387         NaN             NaN\n",
       "53389         NaN             NaN\n",
       "53391         NaN             NaN\n",
       "\n",
       "[26696 rows x 2 columns]"
      ]
     },
     "execution_count": 14,
     "metadata": {},
     "output_type": "execute_result"
    }
   ],
   "source": [
    "# It is noticeable that the data is similar, you can delete one of the columns\n",
    "dataset[[\"Data_Value\",\"Data_Value_Alt\"]]"
   ]
  },
  {
   "cell_type": "code",
   "execution_count": 15,
   "id": "f126eb1e",
   "metadata": {},
   "outputs": [],
   "source": [
    "dataset = dataset.drop(columns = \"Data_Value_Alt\")"
   ]
  },
  {
   "cell_type": "code",
   "execution_count": 16,
   "id": "dba2ab30",
   "metadata": {},
   "outputs": [
    {
     "data": {
      "text/plain": [
       "Data_Value                   2489\n",
       "Low_Confidence_Limit         2489\n",
       "High_Confidence_Limit        2489\n",
       "Sample_Size                  2489\n",
       "YearStart                       0\n",
       "YearEnd                         0\n",
       "LocationDesc                    0\n",
       "Class                           0\n",
       "Topic                           0\n",
       "Question                        0\n",
       "QuestionID                      0\n",
       "StratificationCategory1         0\n",
       "Stratification1                 0\n",
       "StratificationCategoryId1       0\n",
       "StratificationID1               0\n",
       "dtype: int64"
      ]
     },
     "execution_count": 16,
     "metadata": {},
     "output_type": "execute_result"
    }
   ],
   "source": [
    "dataset.isnull().sum().sort_values(ascending=False)"
   ]
  },
  {
   "cell_type": "code",
   "execution_count": 17,
   "id": "147e5667",
   "metadata": {},
   "outputs": [],
   "source": [
    "dataset = dataset.dropna()"
   ]
  },
  {
   "cell_type": "code",
   "execution_count": 18,
   "id": "690d2526",
   "metadata": {},
   "outputs": [
    {
     "data": {
      "text/plain": [
       "Index(['YearStart', 'YearEnd', 'LocationDesc', 'Class', 'Topic', 'Question',\n",
       "       'Data_Value', 'Low_Confidence_Limit', 'High_Confidence_Limit ',\n",
       "       'Sample_Size', 'QuestionID', 'StratificationCategory1',\n",
       "       'Stratification1', 'StratificationCategoryId1', 'StratificationID1'],\n",
       "      dtype='object')"
      ]
     },
     "execution_count": 18,
     "metadata": {},
     "output_type": "execute_result"
    }
   ],
   "source": [
    "dataset.columns"
   ]
  },
  {
   "cell_type": "code",
   "execution_count": 19,
   "id": "c9544eb5",
   "metadata": {},
   "outputs": [
    {
     "data": {
      "text/plain": [
       "YearStart                    0\n",
       "YearEnd                      0\n",
       "LocationDesc                 0\n",
       "Class                        0\n",
       "Topic                        0\n",
       "Question                     0\n",
       "Data_Value                   0\n",
       "Low_Confidence_Limit         0\n",
       "High_Confidence_Limit        0\n",
       "Sample_Size                  0\n",
       "QuestionID                   0\n",
       "StratificationCategory1      0\n",
       "Stratification1              0\n",
       "StratificationCategoryId1    0\n",
       "StratificationID1            0\n",
       "dtype: int64"
      ]
     },
     "execution_count": 19,
     "metadata": {},
     "output_type": "execute_result"
    }
   ],
   "source": [
    "dataset.isnull().sum().sort_values(ascending=False)"
   ]
  },
  {
   "cell_type": "code",
   "execution_count": 20,
   "id": "a9a44ed0",
   "metadata": {},
   "outputs": [
    {
     "name": "stdout",
     "output_type": "stream",
     "text": [
      "<class 'pandas.core.frame.DataFrame'>\n",
      "Int64Index: 24207 entries, 1 to 53385\n",
      "Data columns (total 15 columns):\n",
      " #   Column                     Non-Null Count  Dtype  \n",
      "---  ------                     --------------  -----  \n",
      " 0   YearStart                  24207 non-null  int64  \n",
      " 1   YearEnd                    24207 non-null  int64  \n",
      " 2   LocationDesc               24207 non-null  object \n",
      " 3   Class                      24207 non-null  object \n",
      " 4   Topic                      24207 non-null  object \n",
      " 5   Question                   24207 non-null  object \n",
      " 6   Data_Value                 24207 non-null  float64\n",
      " 7   Low_Confidence_Limit       24207 non-null  float64\n",
      " 8   High_Confidence_Limit      24207 non-null  float64\n",
      " 9   Sample_Size                24207 non-null  float64\n",
      " 10  QuestionID                 24207 non-null  object \n",
      " 11  StratificationCategory1    24207 non-null  object \n",
      " 12  Stratification1            24207 non-null  object \n",
      " 13  StratificationCategoryId1  24207 non-null  object \n",
      " 14  StratificationID1          24207 non-null  object \n",
      "dtypes: float64(4), int64(2), object(9)\n",
      "memory usage: 3.0+ MB\n"
     ]
    }
   ],
   "source": [
    "dataset.info()"
   ]
  },
  {
   "cell_type": "code",
   "execution_count": 21,
   "id": "b28cd25c",
   "metadata": {},
   "outputs": [
    {
     "data": {
      "text/html": [
       "<div>\n",
       "<style scoped>\n",
       "    .dataframe tbody tr th:only-of-type {\n",
       "        vertical-align: middle;\n",
       "    }\n",
       "\n",
       "    .dataframe tbody tr th {\n",
       "        vertical-align: top;\n",
       "    }\n",
       "\n",
       "    .dataframe thead th {\n",
       "        text-align: right;\n",
       "    }\n",
       "</style>\n",
       "<table border=\"1\" class=\"dataframe\">\n",
       "  <thead>\n",
       "    <tr style=\"text-align: right;\">\n",
       "      <th></th>\n",
       "      <th>count</th>\n",
       "      <th>mean</th>\n",
       "      <th>std</th>\n",
       "      <th>min</th>\n",
       "      <th>25%</th>\n",
       "      <th>50%</th>\n",
       "      <th>75%</th>\n",
       "      <th>max</th>\n",
       "    </tr>\n",
       "  </thead>\n",
       "  <tbody>\n",
       "    <tr>\n",
       "      <th>YearStart</th>\n",
       "      <td>24207.0</td>\n",
       "      <td>2013.269261</td>\n",
       "      <td>1.693787</td>\n",
       "      <td>2011.0</td>\n",
       "      <td>2012.0</td>\n",
       "      <td>2013.0</td>\n",
       "      <td>2015.0</td>\n",
       "      <td>2016.0</td>\n",
       "    </tr>\n",
       "    <tr>\n",
       "      <th>YearEnd</th>\n",
       "      <td>24207.0</td>\n",
       "      <td>2013.269261</td>\n",
       "      <td>1.693787</td>\n",
       "      <td>2011.0</td>\n",
       "      <td>2012.0</td>\n",
       "      <td>2013.0</td>\n",
       "      <td>2015.0</td>\n",
       "      <td>2016.0</td>\n",
       "    </tr>\n",
       "    <tr>\n",
       "      <th>Data_Value</th>\n",
       "      <td>24207.0</td>\n",
       "      <td>31.112600</td>\n",
       "      <td>10.227581</td>\n",
       "      <td>2.1</td>\n",
       "      <td>24.1</td>\n",
       "      <td>30.7</td>\n",
       "      <td>36.9</td>\n",
       "      <td>77.6</td>\n",
       "    </tr>\n",
       "    <tr>\n",
       "      <th>Low_Confidence_Limit</th>\n",
       "      <td>24207.0</td>\n",
       "      <td>26.877849</td>\n",
       "      <td>10.019014</td>\n",
       "      <td>0.4</td>\n",
       "      <td>20.0</td>\n",
       "      <td>26.4</td>\n",
       "      <td>32.8</td>\n",
       "      <td>69.0</td>\n",
       "    </tr>\n",
       "    <tr>\n",
       "      <th>High_Confidence_Limit</th>\n",
       "      <td>24207.0</td>\n",
       "      <td>35.908217</td>\n",
       "      <td>11.198406</td>\n",
       "      <td>5.1</td>\n",
       "      <td>28.2</td>\n",
       "      <td>35.4</td>\n",
       "      <td>42.1</td>\n",
       "      <td>86.8</td>\n",
       "    </tr>\n",
       "    <tr>\n",
       "      <th>Sample_Size</th>\n",
       "      <td>24207.0</td>\n",
       "      <td>3816.402528</td>\n",
       "      <td>18488.302948</td>\n",
       "      <td>50.0</td>\n",
       "      <td>570.0</td>\n",
       "      <td>1241.0</td>\n",
       "      <td>2599.0</td>\n",
       "      <td>454894.0</td>\n",
       "    </tr>\n",
       "  </tbody>\n",
       "</table>\n",
       "</div>"
      ],
      "text/plain": [
       "                          count         mean           std     min     25%  \\\n",
       "YearStart               24207.0  2013.269261      1.693787  2011.0  2012.0   \n",
       "YearEnd                 24207.0  2013.269261      1.693787  2011.0  2012.0   \n",
       "Data_Value              24207.0    31.112600     10.227581     2.1    24.1   \n",
       "Low_Confidence_Limit    24207.0    26.877849     10.019014     0.4    20.0   \n",
       "High_Confidence_Limit   24207.0    35.908217     11.198406     5.1    28.2   \n",
       "Sample_Size             24207.0  3816.402528  18488.302948    50.0   570.0   \n",
       "\n",
       "                           50%     75%       max  \n",
       "YearStart               2013.0  2015.0    2016.0  \n",
       "YearEnd                 2013.0  2015.0    2016.0  \n",
       "Data_Value                30.7    36.9      77.6  \n",
       "Low_Confidence_Limit      26.4    32.8      69.0  \n",
       "High_Confidence_Limit     35.4    42.1      86.8  \n",
       "Sample_Size             1241.0  2599.0  454894.0  "
      ]
     },
     "execution_count": 21,
     "metadata": {},
     "output_type": "execute_result"
    }
   ],
   "source": [
    "dataset.describe().T"
   ]
  },
  {
   "cell_type": "code",
   "execution_count": 22,
   "id": "92a463d4",
   "metadata": {},
   "outputs": [
    {
     "data": {
      "text/plain": [
       "(24207, 15)"
      ]
     },
     "execution_count": 22,
     "metadata": {},
     "output_type": "execute_result"
    }
   ],
   "source": [
    "dataset.shape"
   ]
  },
  {
   "cell_type": "code",
   "execution_count": 23,
   "id": "4d17378f",
   "metadata": {},
   "outputs": [
    {
     "data": {
      "text/html": [
       "<div>\n",
       "<style scoped>\n",
       "    .dataframe tbody tr th:only-of-type {\n",
       "        vertical-align: middle;\n",
       "    }\n",
       "\n",
       "    .dataframe tbody tr th {\n",
       "        vertical-align: top;\n",
       "    }\n",
       "\n",
       "    .dataframe thead th {\n",
       "        text-align: right;\n",
       "    }\n",
       "</style>\n",
       "<table border=\"1\" class=\"dataframe\">\n",
       "  <thead>\n",
       "    <tr style=\"text-align: right;\">\n",
       "      <th></th>\n",
       "      <th>YearStart</th>\n",
       "      <th>YearEnd</th>\n",
       "      <th>Data_Value</th>\n",
       "      <th>Low_Confidence_Limit</th>\n",
       "      <th>High_Confidence_Limit</th>\n",
       "      <th>Sample_Size</th>\n",
       "    </tr>\n",
       "  </thead>\n",
       "  <tbody>\n",
       "    <tr>\n",
       "      <th>1</th>\n",
       "      <td>2011</td>\n",
       "      <td>2011</td>\n",
       "      <td>32.3</td>\n",
       "      <td>29.9</td>\n",
       "      <td>34.7</td>\n",
       "      <td>2581.0</td>\n",
       "    </tr>\n",
       "    <tr>\n",
       "      <th>3</th>\n",
       "      <td>2011</td>\n",
       "      <td>2011</td>\n",
       "      <td>33.6</td>\n",
       "      <td>29.9</td>\n",
       "      <td>37.6</td>\n",
       "      <td>1153.0</td>\n",
       "    </tr>\n",
       "    <tr>\n",
       "      <th>5</th>\n",
       "      <td>2011</td>\n",
       "      <td>2011</td>\n",
       "      <td>33.8</td>\n",
       "      <td>31.0</td>\n",
       "      <td>36.8</td>\n",
       "      <td>1925.0</td>\n",
       "    </tr>\n",
       "    <tr>\n",
       "      <th>7</th>\n",
       "      <td>2011</td>\n",
       "      <td>2011</td>\n",
       "      <td>16.3</td>\n",
       "      <td>12.6</td>\n",
       "      <td>20.9</td>\n",
       "      <td>356.0</td>\n",
       "    </tr>\n",
       "    <tr>\n",
       "      <th>9</th>\n",
       "      <td>2011</td>\n",
       "      <td>2011</td>\n",
       "      <td>35.5</td>\n",
       "      <td>31.6</td>\n",
       "      <td>39.6</td>\n",
       "      <td>865.0</td>\n",
       "    </tr>\n",
       "    <tr>\n",
       "      <th>...</th>\n",
       "      <td>...</td>\n",
       "      <td>...</td>\n",
       "      <td>...</td>\n",
       "      <td>...</td>\n",
       "      <td>...</td>\n",
       "      <td>...</td>\n",
       "    </tr>\n",
       "    <tr>\n",
       "      <th>53377</th>\n",
       "      <td>2016</td>\n",
       "      <td>2016</td>\n",
       "      <td>30.6</td>\n",
       "      <td>22.1</td>\n",
       "      <td>40.7</td>\n",
       "      <td>207.0</td>\n",
       "    </tr>\n",
       "    <tr>\n",
       "      <th>53379</th>\n",
       "      <td>2016</td>\n",
       "      <td>2016</td>\n",
       "      <td>28.9</td>\n",
       "      <td>18.2</td>\n",
       "      <td>42.5</td>\n",
       "      <td>154.0</td>\n",
       "    </tr>\n",
       "    <tr>\n",
       "      <th>53381</th>\n",
       "      <td>2016</td>\n",
       "      <td>2016</td>\n",
       "      <td>29.8</td>\n",
       "      <td>19.1</td>\n",
       "      <td>43.3</td>\n",
       "      <td>159.0</td>\n",
       "    </tr>\n",
       "    <tr>\n",
       "      <th>53383</th>\n",
       "      <td>2016</td>\n",
       "      <td>2016</td>\n",
       "      <td>25.3</td>\n",
       "      <td>16.4</td>\n",
       "      <td>37.0</td>\n",
       "      <td>137.0</td>\n",
       "    </tr>\n",
       "    <tr>\n",
       "      <th>53385</th>\n",
       "      <td>2016</td>\n",
       "      <td>2016</td>\n",
       "      <td>24.1</td>\n",
       "      <td>19.9</td>\n",
       "      <td>28.9</td>\n",
       "      <td>820.0</td>\n",
       "    </tr>\n",
       "  </tbody>\n",
       "</table>\n",
       "<p>24207 rows × 6 columns</p>\n",
       "</div>"
      ],
      "text/plain": [
       "       YearStart  YearEnd  Data_Value  Low_Confidence_Limit  \\\n",
       "1           2011     2011        32.3                  29.9   \n",
       "3           2011     2011        33.6                  29.9   \n",
       "5           2011     2011        33.8                  31.0   \n",
       "7           2011     2011        16.3                  12.6   \n",
       "9           2011     2011        35.5                  31.6   \n",
       "...          ...      ...         ...                   ...   \n",
       "53377       2016     2016        30.6                  22.1   \n",
       "53379       2016     2016        28.9                  18.2   \n",
       "53381       2016     2016        29.8                  19.1   \n",
       "53383       2016     2016        25.3                  16.4   \n",
       "53385       2016     2016        24.1                  19.9   \n",
       "\n",
       "       High_Confidence_Limit   Sample_Size  \n",
       "1                        34.7       2581.0  \n",
       "3                        37.6       1153.0  \n",
       "5                        36.8       1925.0  \n",
       "7                        20.9        356.0  \n",
       "9                        39.6        865.0  \n",
       "...                       ...          ...  \n",
       "53377                    40.7        207.0  \n",
       "53379                    42.5        154.0  \n",
       "53381                    43.3        159.0  \n",
       "53383                    37.0        137.0  \n",
       "53385                    28.9        820.0  \n",
       "\n",
       "[24207 rows x 6 columns]"
      ]
     },
     "execution_count": 23,
     "metadata": {},
     "output_type": "execute_result"
    }
   ],
   "source": [
    "dataset_num = dataset.loc[:, dataset.dtypes != 'object']\n",
    "dataset_num"
   ]
  },
  {
   "cell_type": "code",
   "execution_count": 24,
   "id": "1f4a0f13",
   "metadata": {},
   "outputs": [],
   "source": [
    "def Find_Outliers(df, clm):\n",
    "    Q1 = df[clm].quantile(0.25)\n",
    "    Q3 = df[clm].quantile(0.75)\n",
    "    IQR = Q3 - Q1\n",
    "    \n",
    "    outliersList = df.index[(df[clm] < (Q1 - 1.5 * IQR)) |(df[clm] > (Q3 + 1.5 * IQR))]\n",
    "    return outliersList"
   ]
  },
  {
   "cell_type": "code",
   "execution_count": 25,
   "id": "3d9ea5e0",
   "metadata": {},
   "outputs": [
    {
     "data": {
      "text/plain": [
       "Index(['YearStart', 'YearEnd', 'LocationDesc', 'Class', 'Topic', 'Question',\n",
       "       'Data_Value', 'Low_Confidence_Limit', 'High_Confidence_Limit ',\n",
       "       'Sample_Size', 'QuestionID', 'StratificationCategory1',\n",
       "       'Stratification1', 'StratificationCategoryId1', 'StratificationID1'],\n",
       "      dtype='object')"
      ]
     },
     "execution_count": 25,
     "metadata": {},
     "output_type": "execute_result"
    }
   ],
   "source": [
    "dataset.columns"
   ]
  },
  {
   "cell_type": "code",
   "execution_count": 26,
   "id": "09bdf7e7",
   "metadata": {},
   "outputs": [],
   "source": [
    "index_list = [] #Array (list) for indexes\n",
    "\n",
    "#Code for finding outliers indexes across all columns\n",
    "for columns in dataset_num.columns:\n",
    "    index_list.extend(Find_Outliers(dataset_num, columns))\n"
   ]
  },
  {
   "cell_type": "code",
   "execution_count": 27,
   "id": "c57a1e7a",
   "metadata": {},
   "outputs": [
    {
     "data": {
      "text/plain": [
       "3725"
      ]
     },
     "execution_count": 27,
     "metadata": {},
     "output_type": "execute_result"
    }
   ],
   "source": [
    "# # Decided to leave outliers to check how much they will affect the quality of data, spoiler: nothing\n",
    "len(index_list)"
   ]
  },
  {
   "cell_type": "markdown",
   "id": "55d8e11a",
   "metadata": {},
   "source": [
    "---"
   ]
  },
  {
   "cell_type": "code",
   "execution_count": 28,
   "id": "1ef5dc68",
   "metadata": {},
   "outputs": [
    {
     "data": {
      "text/html": [
       "<div>\n",
       "<style scoped>\n",
       "    .dataframe tbody tr th:only-of-type {\n",
       "        vertical-align: middle;\n",
       "    }\n",
       "\n",
       "    .dataframe tbody tr th {\n",
       "        vertical-align: top;\n",
       "    }\n",
       "\n",
       "    .dataframe thead th {\n",
       "        text-align: right;\n",
       "    }\n",
       "</style>\n",
       "<table border=\"1\" class=\"dataframe\">\n",
       "  <thead>\n",
       "    <tr style=\"text-align: right;\">\n",
       "      <th></th>\n",
       "      <th>LocationDesc</th>\n",
       "      <th>Class</th>\n",
       "      <th>Topic</th>\n",
       "      <th>Question</th>\n",
       "      <th>QuestionID</th>\n",
       "      <th>StratificationCategory1</th>\n",
       "      <th>Stratification1</th>\n",
       "      <th>StratificationCategoryId1</th>\n",
       "      <th>StratificationID1</th>\n",
       "    </tr>\n",
       "  </thead>\n",
       "  <tbody>\n",
       "    <tr>\n",
       "      <th>1</th>\n",
       "      <td>Alabama</td>\n",
       "      <td>Obesity / Weight Status</td>\n",
       "      <td>Obesity / Weight Status</td>\n",
       "      <td>Percent of adults aged 18 years and older who ...</td>\n",
       "      <td>Q036</td>\n",
       "      <td>Gender</td>\n",
       "      <td>Male</td>\n",
       "      <td>GEN</td>\n",
       "      <td>MALE</td>\n",
       "    </tr>\n",
       "    <tr>\n",
       "      <th>3</th>\n",
       "      <td>Alabama</td>\n",
       "      <td>Obesity / Weight Status</td>\n",
       "      <td>Obesity / Weight Status</td>\n",
       "      <td>Percent of adults aged 18 years and older who ...</td>\n",
       "      <td>Q036</td>\n",
       "      <td>Education</td>\n",
       "      <td>Less than high school</td>\n",
       "      <td>EDU</td>\n",
       "      <td>EDUHS</td>\n",
       "    </tr>\n",
       "    <tr>\n",
       "      <th>5</th>\n",
       "      <td>Alabama</td>\n",
       "      <td>Obesity / Weight Status</td>\n",
       "      <td>Obesity / Weight Status</td>\n",
       "      <td>Percent of adults aged 18 years and older who ...</td>\n",
       "      <td>Q036</td>\n",
       "      <td>Education</td>\n",
       "      <td>Some college or technical school</td>\n",
       "      <td>EDU</td>\n",
       "      <td>EDUCOTEC</td>\n",
       "    </tr>\n",
       "    <tr>\n",
       "      <th>7</th>\n",
       "      <td>Alabama</td>\n",
       "      <td>Obesity / Weight Status</td>\n",
       "      <td>Obesity / Weight Status</td>\n",
       "      <td>Percent of adults aged 18 years and older who ...</td>\n",
       "      <td>Q036</td>\n",
       "      <td>Age (years)</td>\n",
       "      <td>18 - 24</td>\n",
       "      <td>AGEYR</td>\n",
       "      <td>AGEYR1824</td>\n",
       "    </tr>\n",
       "    <tr>\n",
       "      <th>9</th>\n",
       "      <td>Alabama</td>\n",
       "      <td>Obesity / Weight Status</td>\n",
       "      <td>Obesity / Weight Status</td>\n",
       "      <td>Percent of adults aged 18 years and older who ...</td>\n",
       "      <td>Q036</td>\n",
       "      <td>Age (years)</td>\n",
       "      <td>35 - 44</td>\n",
       "      <td>AGEYR</td>\n",
       "      <td>AGEYR3544</td>\n",
       "    </tr>\n",
       "  </tbody>\n",
       "</table>\n",
       "</div>"
      ],
      "text/plain": [
       "  LocationDesc                    Class                    Topic  \\\n",
       "1      Alabama  Obesity / Weight Status  Obesity / Weight Status   \n",
       "3      Alabama  Obesity / Weight Status  Obesity / Weight Status   \n",
       "5      Alabama  Obesity / Weight Status  Obesity / Weight Status   \n",
       "7      Alabama  Obesity / Weight Status  Obesity / Weight Status   \n",
       "9      Alabama  Obesity / Weight Status  Obesity / Weight Status   \n",
       "\n",
       "                                            Question QuestionID  \\\n",
       "1  Percent of adults aged 18 years and older who ...       Q036   \n",
       "3  Percent of adults aged 18 years and older who ...       Q036   \n",
       "5  Percent of adults aged 18 years and older who ...       Q036   \n",
       "7  Percent of adults aged 18 years and older who ...       Q036   \n",
       "9  Percent of adults aged 18 years and older who ...       Q036   \n",
       "\n",
       "  StratificationCategory1                   Stratification1  \\\n",
       "1                  Gender                              Male   \n",
       "3               Education             Less than high school   \n",
       "5               Education  Some college or technical school   \n",
       "7             Age (years)                           18 - 24   \n",
       "9             Age (years)                           35 - 44   \n",
       "\n",
       "  StratificationCategoryId1 StratificationID1  \n",
       "1                       GEN              MALE  \n",
       "3                       EDU             EDUHS  \n",
       "5                       EDU          EDUCOTEC  \n",
       "7                     AGEYR         AGEYR1824  \n",
       "9                     AGEYR         AGEYR3544  "
      ]
     },
     "execution_count": 28,
     "metadata": {},
     "output_type": "execute_result"
    }
   ],
   "source": [
    "# We have allocated a separate dataset for categorical data\n",
    "dataset_categorical = dataset.loc[:, dataset.dtypes == 'object']\n",
    "dataset_categorical.head()"
   ]
  },
  {
   "cell_type": "code",
   "execution_count": 29,
   "id": "12d6be91",
   "metadata": {},
   "outputs": [],
   "source": [
    "def LabelEncoder(data):\n",
    "    LabelEncoder_ = preprocessing.LabelEncoder()\n",
    "    for columns in data.columns:\n",
    "            data.loc[:, columns] = LabelEncoder_.fit_transform(data.loc[:, columns])\n",
    "    return data"
   ]
  },
  {
   "cell_type": "code",
   "execution_count": 30,
   "id": "2da4f30b",
   "metadata": {},
   "outputs": [
    {
     "name": "stderr",
     "output_type": "stream",
     "text": [
      "C:\\Users\\saiki\\AppData\\Local\\Temp\\ipykernel_11888\\2700503050.py:4: SettingWithCopyWarning: \n",
      "A value is trying to be set on a copy of a slice from a DataFrame.\n",
      "Try using .loc[row_indexer,col_indexer] = value instead\n",
      "\n",
      "See the caveats in the documentation: https://pandas.pydata.org/pandas-docs/stable/user_guide/indexing.html#returning-a-view-versus-a-copy\n",
      "  data.loc[:, columns] = LabelEncoder_.fit_transform(data.loc[:, columns])\n"
     ]
    },
    {
     "data": {
      "text/html": [
       "<div>\n",
       "<style scoped>\n",
       "    .dataframe tbody tr th:only-of-type {\n",
       "        vertical-align: middle;\n",
       "    }\n",
       "\n",
       "    .dataframe tbody tr th {\n",
       "        vertical-align: top;\n",
       "    }\n",
       "\n",
       "    .dataframe thead th {\n",
       "        text-align: right;\n",
       "    }\n",
       "</style>\n",
       "<table border=\"1\" class=\"dataframe\">\n",
       "  <thead>\n",
       "    <tr style=\"text-align: right;\">\n",
       "      <th></th>\n",
       "      <th>LocationDesc</th>\n",
       "      <th>Class</th>\n",
       "      <th>Topic</th>\n",
       "      <th>Question</th>\n",
       "      <th>QuestionID</th>\n",
       "      <th>StratificationCategory1</th>\n",
       "      <th>Stratification1</th>\n",
       "      <th>StratificationCategoryId1</th>\n",
       "      <th>StratificationID1</th>\n",
       "    </tr>\n",
       "  </thead>\n",
       "  <tbody>\n",
       "    <tr>\n",
       "      <th>1</th>\n",
       "      <td>0</td>\n",
       "      <td>1</td>\n",
       "      <td>1</td>\n",
       "      <td>1</td>\n",
       "      <td>2</td>\n",
       "      <td>2</td>\n",
       "      <td>22</td>\n",
       "      <td>2</td>\n",
       "      <td>18</td>\n",
       "    </tr>\n",
       "    <tr>\n",
       "      <th>3</th>\n",
       "      <td>0</td>\n",
       "      <td>1</td>\n",
       "      <td>1</td>\n",
       "      <td>1</td>\n",
       "      <td>2</td>\n",
       "      <td>1</td>\n",
       "      <td>21</td>\n",
       "      <td>1</td>\n",
       "      <td>8</td>\n",
       "    </tr>\n",
       "    <tr>\n",
       "      <th>5</th>\n",
       "      <td>0</td>\n",
       "      <td>1</td>\n",
       "      <td>1</td>\n",
       "      <td>1</td>\n",
       "      <td>2</td>\n",
       "      <td>1</td>\n",
       "      <td>26</td>\n",
       "      <td>1</td>\n",
       "      <td>7</td>\n",
       "    </tr>\n",
       "    <tr>\n",
       "      <th>7</th>\n",
       "      <td>0</td>\n",
       "      <td>1</td>\n",
       "      <td>1</td>\n",
       "      <td>1</td>\n",
       "      <td>2</td>\n",
       "      <td>0</td>\n",
       "      <td>5</td>\n",
       "      <td>0</td>\n",
       "      <td>0</td>\n",
       "    </tr>\n",
       "    <tr>\n",
       "      <th>9</th>\n",
       "      <td>0</td>\n",
       "      <td>1</td>\n",
       "      <td>1</td>\n",
       "      <td>1</td>\n",
       "      <td>2</td>\n",
       "      <td>0</td>\n",
       "      <td>8</td>\n",
       "      <td>0</td>\n",
       "      <td>2</td>\n",
       "    </tr>\n",
       "    <tr>\n",
       "      <th>...</th>\n",
       "      <td>...</td>\n",
       "      <td>...</td>\n",
       "      <td>...</td>\n",
       "      <td>...</td>\n",
       "      <td>...</td>\n",
       "      <td>...</td>\n",
       "      <td>...</td>\n",
       "      <td>...</td>\n",
       "      <td>...</td>\n",
       "    </tr>\n",
       "    <tr>\n",
       "      <th>53377</th>\n",
       "      <td>49</td>\n",
       "      <td>2</td>\n",
       "      <td>2</td>\n",
       "      <td>6</td>\n",
       "      <td>8</td>\n",
       "      <td>3</td>\n",
       "      <td>20</td>\n",
       "      <td>3</td>\n",
       "      <td>16</td>\n",
       "    </tr>\n",
       "    <tr>\n",
       "      <th>53379</th>\n",
       "      <td>49</td>\n",
       "      <td>2</td>\n",
       "      <td>2</td>\n",
       "      <td>6</td>\n",
       "      <td>8</td>\n",
       "      <td>3</td>\n",
       "      <td>1</td>\n",
       "      <td>3</td>\n",
       "      <td>12</td>\n",
       "    </tr>\n",
       "    <tr>\n",
       "      <th>53381</th>\n",
       "      <td>49</td>\n",
       "      <td>2</td>\n",
       "      <td>2</td>\n",
       "      <td>6</td>\n",
       "      <td>8</td>\n",
       "      <td>3</td>\n",
       "      <td>3</td>\n",
       "      <td>3</td>\n",
       "      <td>14</td>\n",
       "    </tr>\n",
       "    <tr>\n",
       "      <th>53383</th>\n",
       "      <td>49</td>\n",
       "      <td>2</td>\n",
       "      <td>2</td>\n",
       "      <td>6</td>\n",
       "      <td>8</td>\n",
       "      <td>3</td>\n",
       "      <td>15</td>\n",
       "      <td>3</td>\n",
       "      <td>17</td>\n",
       "    </tr>\n",
       "    <tr>\n",
       "      <th>53385</th>\n",
       "      <td>49</td>\n",
       "      <td>2</td>\n",
       "      <td>2</td>\n",
       "      <td>6</td>\n",
       "      <td>8</td>\n",
       "      <td>4</td>\n",
       "      <td>23</td>\n",
       "      <td>5</td>\n",
       "      <td>22</td>\n",
       "    </tr>\n",
       "  </tbody>\n",
       "</table>\n",
       "<p>24207 rows × 9 columns</p>\n",
       "</div>"
      ],
      "text/plain": [
       "       LocationDesc  Class  Topic  Question  QuestionID  \\\n",
       "1                 0      1      1         1           2   \n",
       "3                 0      1      1         1           2   \n",
       "5                 0      1      1         1           2   \n",
       "7                 0      1      1         1           2   \n",
       "9                 0      1      1         1           2   \n",
       "...             ...    ...    ...       ...         ...   \n",
       "53377            49      2      2         6           8   \n",
       "53379            49      2      2         6           8   \n",
       "53381            49      2      2         6           8   \n",
       "53383            49      2      2         6           8   \n",
       "53385            49      2      2         6           8   \n",
       "\n",
       "       StratificationCategory1  Stratification1  StratificationCategoryId1  \\\n",
       "1                            2               22                          2   \n",
       "3                            1               21                          1   \n",
       "5                            1               26                          1   \n",
       "7                            0                5                          0   \n",
       "9                            0                8                          0   \n",
       "...                        ...              ...                        ...   \n",
       "53377                        3               20                          3   \n",
       "53379                        3                1                          3   \n",
       "53381                        3                3                          3   \n",
       "53383                        3               15                          3   \n",
       "53385                        4               23                          5   \n",
       "\n",
       "       StratificationID1  \n",
       "1                     18  \n",
       "3                      8  \n",
       "5                      7  \n",
       "7                      0  \n",
       "9                      2  \n",
       "...                  ...  \n",
       "53377                 16  \n",
       "53379                 12  \n",
       "53381                 14  \n",
       "53383                 17  \n",
       "53385                 22  \n",
       "\n",
       "[24207 rows x 9 columns]"
      ]
     },
     "execution_count": 30,
     "metadata": {},
     "output_type": "execute_result"
    }
   ],
   "source": [
    "data_encoded_cat = LabelEncoder(dataset_categorical)\n",
    "data_cat_labelenc = data_encoded_cat\n",
    "data_cat_labelenc"
   ]
  },
  {
   "cell_type": "markdown",
   "id": "5b7da3e3",
   "metadata": {},
   "source": [
    "---"
   ]
  },
  {
   "cell_type": "code",
   "execution_count": 31,
   "id": "4b7f8a69",
   "metadata": {},
   "outputs": [
    {
     "data": {
      "text/plain": [
       "<AxesSubplot:>"
      ]
     },
     "execution_count": 31,
     "metadata": {},
     "output_type": "execute_result"
    },
    {
     "data": {
      "image/png": "[encoded data removed]",
      "text/plain": [
       "<Figure size 1440x576 with 2 Axes>"
      ]
     },
     "metadata": {
      "needs_background": "light"
     },
     "output_type": "display_data"
    }
   ],
   "source": [
    "# The target value is [Data_Value]\n",
    "# # There is a correlation with [Low_Confidence_Limit] and [High_Confidence_Limit]\n",
    "ax = plt.subplots(figsize=(20, 8))\n",
    "ax = sns.heatmap(dataset.corr(), vmin = -1, vmax = 1, square=True, annot= True,linewidths = 2, fmt = '.1g')\n",
    "ax"
   ]
  },
  {
   "cell_type": "code",
   "execution_count": 32,
   "id": "d4210771",
   "metadata": {
    "scrolled": true
   },
   "outputs": [
    {
     "data": {
      "image/png": "[encoded data removed]",
      "text/plain": [
       "<Figure size 432x288 with 1 Axes>"
      ]
     },
     "metadata": {
      "needs_background": "light"
     },
     "output_type": "display_data"
    }
   ],
   "source": [
    "# # Positive correlation increases with [Low_Confidence_Limit], increases with [Data_Value]. It grows as a logarithm.\n",
    "fig, ax = plt.subplots()\n",
    "ax.scatter(x = dataset['Data_Value'], y = dataset['Low_Confidence_Limit'])\n",
    "plt.ylabel('Data_Value', fontsize=13)\n",
    "plt.xlabel('Low_Confidence_Limit', fontsize=13)\n",
    "plt.show()"
   ]
  },
  {
   "cell_type": "code",
   "execution_count": 33,
   "id": "8089f58c",
   "metadata": {
    "scrolled": true
   },
   "outputs": [
    {
     "data": {
      "image/png": "[encoded data removed]",
      "text/plain": [
       "<Figure size 432x288 with 1 Axes>"
      ]
     },
     "metadata": {
      "needs_background": "light"
     },
     "output_type": "display_data"
    }
   ],
   "source": [
    "# # Positive correlation increases with [High_Confidence_Limit], increases with [Data_Value]. Grows as a linear function\n",
    "fig, ax = plt.subplots()\n",
    "ax.scatter(x = dataset['Data_Value'], y = dataset['High_Confidence_Limit '])\n",
    "plt.ylabel('Data_Value', fontsize=13)\n",
    "plt.xlabel('High_Confidence_Limit', fontsize=13)\n",
    "plt.show()"
   ]
  },
  {
   "cell_type": "markdown",
   "id": "7ce91521",
   "metadata": {},
   "source": [
    "---"
   ]
  },
  {
   "cell_type": "code",
   "execution_count": 34,
   "id": "a2e172c4",
   "metadata": {},
   "outputs": [],
   "source": [
    "X_dataframe = dataset[['Low_Confidence_Limit', 'High_Confidence_Limit ']]\n",
    "target = dataset.Data_Value"
   ]
  },
  {
   "cell_type": "code",
   "execution_count": 35,
   "id": "64a9acc7",
   "metadata": {},
   "outputs": [
    {
     "name": "stdout",
     "output_type": "stream",
     "text": [
      "X_dataframe shape: (24207, 2) \n",
      "Target value shape: (24207,)\n"
     ]
    }
   ],
   "source": [
    "print(\"X_dataframe shape:\", X_dataframe.shape, \"\\nTarget value shape:\", target.shape)"
   ]
  },
  {
   "cell_type": "code",
   "execution_count": 36,
   "id": "96529221",
   "metadata": {},
   "outputs": [],
   "source": [
    "x_train, x_test, y_train, y_test = train_test_split(X_dataframe, target, test_size=0.3, random_state=18)"
   ]
  },
  {
   "cell_type": "code",
   "execution_count": 37,
   "id": "dff52676",
   "metadata": {},
   "outputs": [],
   "source": [
    "lr_model = linear_model.LinearRegression()"
   ]
  },
  {
   "cell_type": "code",
   "execution_count": 38,
   "id": "88402669",
   "metadata": {},
   "outputs": [
    {
     "name": "stdout",
     "output_type": "stream",
     "text": [
      "Train data: (16944, 2) (16944,) \n",
      "Test data: (7263, 2) (7263,)\n"
     ]
    }
   ],
   "source": [
    "print(\"Train data:\",x_train.shape, y_train.shape, \"\\nTest data:\",x_test.shape, y_test.shape)"
   ]
  },
  {
   "cell_type": "markdown",
   "id": "53f3df80",
   "metadata": {},
   "source": [
    "# 3. Model training and improvement "
   ]
  },
  {
   "cell_type": "markdown",
   "id": "94500094",
   "metadata": {},
   "source": [
    "3.1a Determine the target value for linear regression model and train \n",
    "LinearRegression() model, use MSE and r2_score metrics "
   ]
  },
  {
   "cell_type": "code",
   "execution_count": 39,
   "id": "6ddab8c4",
   "metadata": {},
   "outputs": [],
   "source": [
    "lr_model = linear_model.LinearRegression()"
   ]
  },
  {
   "cell_type": "code",
   "execution_count": 40,
   "id": "d2d48d7d",
   "metadata": {},
   "outputs": [
    {
     "data": {
      "text/plain": [
       "LinearRegression()"
      ]
     },
     "execution_count": 40,
     "metadata": {},
     "output_type": "execute_result"
    }
   ],
   "source": [
    "lr_model.fit(x_train, y_train)"
   ]
  },
  {
   "cell_type": "code",
   "execution_count": 41,
   "id": "2600837c",
   "metadata": {},
   "outputs": [],
   "source": [
    "y_predicted_ls = lr_model.predict(x_test)"
   ]
  },
  {
   "cell_type": "code",
   "execution_count": 42,
   "id": "c40d086e",
   "metadata": {},
   "outputs": [],
   "source": [
    "lr_model = linear_model.LinearRegression()"
   ]
  },
  {
   "cell_type": "code",
   "execution_count": 43,
   "id": "f2912436",
   "metadata": {},
   "outputs": [
    {
     "name": "stdout",
     "output_type": "stream",
     "text": [
      "LinearRegression() MSE train:  0.13711416523819786 \n",
      "LinearRegression() R^2 train:  0.9986899480994539\n"
     ]
    }
   ],
   "source": [
    "print('LinearRegression() MSE train: ', mean_squared_error(y_test, y_predicted_ls), '\\nLinearRegression() R^2 train: ', r2_score(y_test, y_predicted_ls))"
   ]
  },
  {
   "cell_type": "code",
   "execution_count": 44,
   "id": "9e24d8d9",
   "metadata": {},
   "outputs": [
    {
     "name": "stdout",
     "output_type": "stream",
     "text": [
      "[0.99881523 0.99902543 0.99845337 0.99874878 0.99883291]\n"
     ]
    }
   ],
   "source": [
    "print(cross_val_score(lr_model, X_dataframe, target))"
   ]
  },
  {
   "cell_type": "code",
   "execution_count": 45,
   "id": "59bf446c",
   "metadata": {},
   "outputs": [
    {
     "data": {
      "image/png": "[encoded data removed]",
      "text/plain": [
       "<Figure size 1440x576 with 1 Axes>"
      ]
     },
     "metadata": {
      "needs_background": "light"
     },
     "output_type": "display_data"
    }
   ],
   "source": [
    "import matplotlib.pyplot as plt\n",
    "plt.figure(figsize=(20, 8))\n",
    "plt.scatter(x_test.index, y_test, label='train data')\n",
    "plt.scatter(x_test.index, y_predicted_ls, c='r', label='predicted data')\n",
    "plt.legend();"
   ]
  },
  {
   "cell_type": "markdown",
   "id": "8d6d2932",
   "metadata": {},
   "source": [
    "3.1b Determine the target value for classification model and train \n",
    "DecisionTreeClassifier() model, use accuracy_score metric – 20 points"
   ]
  },
  {
   "cell_type": "code",
   "execution_count": 46,
   "id": "beaa5216",
   "metadata": {},
   "outputs": [
    {
     "name": "stdout",
     "output_type": "stream",
     "text": [
      "<class 'pandas.core.frame.DataFrame'>\n",
      "Int64Index: 24207 entries, 1 to 53385\n",
      "Data columns (total 15 columns):\n",
      " #   Column                     Non-Null Count  Dtype  \n",
      "---  ------                     --------------  -----  \n",
      " 0   YearStart                  24207 non-null  int64  \n",
      " 1   YearEnd                    24207 non-null  int64  \n",
      " 2   LocationDesc               24207 non-null  object \n",
      " 3   Class                      24207 non-null  object \n",
      " 4   Topic                      24207 non-null  object \n",
      " 5   Question                   24207 non-null  object \n",
      " 6   Data_Value                 24207 non-null  float64\n",
      " 7   Low_Confidence_Limit       24207 non-null  float64\n",
      " 8   High_Confidence_Limit      24207 non-null  float64\n",
      " 9   Sample_Size                24207 non-null  float64\n",
      " 10  QuestionID                 24207 non-null  object \n",
      " 11  StratificationCategory1    24207 non-null  object \n",
      " 12  Stratification1            24207 non-null  object \n",
      " 13  StratificationCategoryId1  24207 non-null  object \n",
      " 14  StratificationID1          24207 non-null  object \n",
      "dtypes: float64(4), int64(2), object(9)\n",
      "memory usage: 3.0+ MB\n"
     ]
    }
   ],
   "source": [
    "dataset_tree = dataset\n",
    "dataset_tree.info()"
   ]
  },
  {
   "cell_type": "code",
   "execution_count": 47,
   "id": "37ee3ed9",
   "metadata": {},
   "outputs": [
    {
     "name": "stdout",
     "output_type": "stream",
     "text": [
      "<class 'pandas.core.frame.DataFrame'>\n",
      "Int64Index: 24207 entries, 1 to 53385\n",
      "Data columns (total 15 columns):\n",
      " #   Column                     Non-Null Count  Dtype \n",
      "---  ------                     --------------  ----- \n",
      " 0   YearStart                  24207 non-null  int64 \n",
      " 1   YearEnd                    24207 non-null  int64 \n",
      " 2   LocationDesc               24207 non-null  object\n",
      " 3   Class                      24207 non-null  object\n",
      " 4   Topic                      24207 non-null  object\n",
      " 5   Question                   24207 non-null  object\n",
      " 6   Data_Value                 24207 non-null  int32 \n",
      " 7   Low_Confidence_Limit       24207 non-null  int32 \n",
      " 8   High_Confidence_Limit      24207 non-null  int32 \n",
      " 9   Sample_Size                24207 non-null  int32 \n",
      " 10  QuestionID                 24207 non-null  object\n",
      " 11  StratificationCategory1    24207 non-null  object\n",
      " 12  Stratification1            24207 non-null  object\n",
      " 13  StratificationCategoryId1  24207 non-null  object\n",
      " 14  StratificationID1          24207 non-null  object\n",
      "dtypes: int32(4), int64(2), object(9)\n",
      "memory usage: 2.6+ MB\n"
     ]
    }
   ],
   "source": [
    "dataset_tree['Data_Value'] = dataset_tree['Data_Value'].astype(int)\n",
    "dataset_tree['Low_Confidence_Limit'] = dataset_tree['Low_Confidence_Limit'].astype(int)\n",
    "dataset_tree['High_Confidence_Limit '] = dataset_tree['High_Confidence_Limit '].astype(int)\n",
    "dataset_tree['Sample_Size'] = dataset_tree['Sample_Size'].astype(int)\n",
    "dataset_tree.info()"
   ]
  },
  {
   "cell_type": "code",
   "execution_count": 57,
   "id": "2a8c423c",
   "metadata": {},
   "outputs": [],
   "source": [
    "X_dataframe_tree = dataset_tree[['Low_Confidence_Limit', 'High_Confidence_Limit ']]\n",
    "target_Tree = dataset_tree.Data_Value"
   ]
  },
  {
   "cell_type": "code",
   "execution_count": 58,
   "id": "547a5e15",
   "metadata": {},
   "outputs": [
    {
     "name": "stdout",
     "output_type": "stream",
     "text": [
      "X_dataframe shape: (24207, 2) \n",
      "Target value shape: (24207,)\n"
     ]
    }
   ],
   "source": [
    "print(\"X_dataframe shape:\", X_dataframe_tree.shape, \"\\nTarget value shape:\", target_Tree.shape)"
   ]
  },
  {
   "cell_type": "code",
   "execution_count": 59,
   "id": "bcb1e72b",
   "metadata": {},
   "outputs": [],
   "source": [
    "x_train, x_test, y_train, y_test = train_test_split(X_dataframe_tree, target_Tree, test_size=0.3, random_state=18)"
   ]
  },
  {
   "cell_type": "code",
   "execution_count": 60,
   "id": "28ba88a0",
   "metadata": {},
   "outputs": [
    {
     "name": "stdout",
     "output_type": "stream",
     "text": [
      "Train data: (16944, 2) (16944,) \n",
      "Test data: (7263, 2) (7263,)\n"
     ]
    }
   ],
   "source": [
    "print(\"Train data:\",x_train.shape, y_train.shape, \"\\nTest data:\",x_test.shape, y_test.shape)"
   ]
  },
  {
   "cell_type": "code",
   "execution_count": 61,
   "id": "7d616207",
   "metadata": {},
   "outputs": [],
   "source": [
    "model = tree.DecisionTreeClassifier(max_depth = 4)"
   ]
  },
  {
   "cell_type": "code",
   "execution_count": 62,
   "id": "cedddbf0",
   "metadata": {},
   "outputs": [
    {
     "data": {
      "text/plain": [
       "DecisionTreeClassifier(max_depth=4)"
      ]
     },
     "execution_count": 62,
     "metadata": {},
     "output_type": "execute_result"
    }
   ],
   "source": [
    "model.fit(x_train, y_train)"
   ]
  },
  {
   "cell_type": "code",
   "execution_count": 63,
   "id": "884867c0",
   "metadata": {},
   "outputs": [],
   "source": [
    "y_predicted = model.predict(x_test)"
   ]
  },
  {
   "cell_type": "code",
   "execution_count": 64,
   "id": "470042f2",
   "metadata": {},
   "outputs": [
    {
     "name": "stdout",
     "output_type": "stream",
     "text": [
      "Accuracy of the model: 0.26118683739501586\n"
     ]
    }
   ],
   "source": [
    "print(\"Accuracy of the model:\", metrics.accuracy_score(y_test, y_predicted))"
   ]
  },
  {
   "cell_type": "code",
   "execution_count": 65,
   "id": "15210b96",
   "metadata": {
    "scrolled": true
   },
   "outputs": [
    {
     "data": {
      "image/png": "[encoded data removed]",
      "text/plain": [
       "<Figure size 2160x2520 with 1 Axes>"
      ]
     },
     "metadata": {
      "needs_background": "light"
     },
     "output_type": "display_data"
    }
   ],
   "source": [
    "fig = plt.figure(figsize=(30,35))\n",
    "model_entropy_graph = tree.plot_tree(model, feature_names=x_train.columns, filled=True)"
   ]
  },
  {
   "cell_type": "markdown",
   "id": "2022923e",
   "metadata": {},
   "source": [
    "3.2 Improve the models "
   ]
  },
  {
   "cell_type": "code",
   "execution_count": 66,
   "id": "12d77530",
   "metadata": {
    "scrolled": true
   },
   "outputs": [
    {
     "name": "stderr",
     "output_type": "stream",
     "text": [
      "C:\\python310\\lib\\site-packages\\seaborn\\distributions.py:2619: FutureWarning: `distplot` is a deprecated function and will be removed in a future version. Please adapt your code to use either `displot` (a figure-level function with similar flexibility) or `histplot` (an axes-level function for histograms).\n",
      "  warnings.warn(msg, FutureWarning)\n"
     ]
    },
    {
     "data": {
      "text/plain": [
       "<AxesSubplot:xlabel='Data_Value', ylabel='Density'>"
      ]
     },
     "execution_count": 66,
     "metadata": {},
     "output_type": "execute_result"
    },
    {
     "data": {
      "image/png": "[encoded data removed]",
      "text/plain": [
       "<Figure size 576x432 with 1 Axes>"
      ]
     },
     "metadata": {
      "needs_background": "light"
     },
     "output_type": "display_data"
    }
   ],
   "source": [
    "f, ax = plt.subplots(figsize=(8, 6))\n",
    "sns.distplot(dataset['Data_Value'])"
   ]
  },
  {
   "cell_type": "code",
   "execution_count": 67,
   "id": "574bf15f",
   "metadata": {},
   "outputs": [
    {
     "data": {
      "image/png": "[encoded data removed]",
      "text/plain": [
       "<Figure size 1008x576 with 2 Axes>"
      ]
     },
     "metadata": {
      "needs_background": "light"
     },
     "output_type": "display_data"
    }
   ],
   "source": [
    "from scipy import stats \n",
    "\n",
    "fig = plt.figure(figsize = (14,8))\n",
    "\n",
    "# Distribution on raw data\n",
    "fig.add_subplot(1,2,1)\n",
    "res = stats.probplot(dataset[\"Data_Value\"], plot=plt)\n",
    "\n",
    "# # Distribution provided that we took the square from 'Data_Value'\n",
    "fig.add_subplot(1,2,2)\n",
    "res = stats.probplot(np.sqrt(dataset[\"Data_Value\"]), plot=plt)"
   ]
  },
  {
   "cell_type": "code",
   "execution_count": 68,
   "id": "71da4731",
   "metadata": {},
   "outputs": [],
   "source": [
    "dataset['Data_Value'] = np.sqrt(dataset['Data_Value'])"
   ]
  },
  {
   "cell_type": "code",
   "execution_count": 69,
   "id": "5b6147a3",
   "metadata": {},
   "outputs": [],
   "source": [
    "X_dataframe = dataset[['Low_Confidence_Limit', 'High_Confidence_Limit ']]\n",
    "target = dataset.Data_Value"
   ]
  },
  {
   "cell_type": "code",
   "execution_count": 70,
   "id": "160d3a0f",
   "metadata": {},
   "outputs": [
    {
     "name": "stdout",
     "output_type": "stream",
     "text": [
      "X_dataframe shape: (24207, 2) \n",
      "Target value shape: (24207,)\n"
     ]
    }
   ],
   "source": [
    "print(\"X_dataframe shape:\", X_dataframe.shape, \"\\nTarget value shape:\", target.shape)"
   ]
  },
  {
   "cell_type": "code",
   "execution_count": 71,
   "id": "12864d43",
   "metadata": {},
   "outputs": [],
   "source": [
    "x_train, x_test, y_train, y_test = train_test_split(X_dataframe, target, test_size=0.3, random_state=18)"
   ]
  },
  {
   "cell_type": "code",
   "execution_count": 72,
   "id": "306f349b",
   "metadata": {},
   "outputs": [],
   "source": [
    "lr_model = linear_model.LinearRegression()"
   ]
  },
  {
   "cell_type": "code",
   "execution_count": 73,
   "id": "9d07097e",
   "metadata": {},
   "outputs": [
    {
     "name": "stdout",
     "output_type": "stream",
     "text": [
      "Train data: (16944, 2) (16944,) \n",
      "Test data: (7263, 2) (7263,)\n"
     ]
    }
   ],
   "source": [
    "print(\"Train data:\",x_train.shape, y_train.shape, \"\\nTest data:\",x_test.shape, y_test.shape)"
   ]
  },
  {
   "cell_type": "code",
   "execution_count": 74,
   "id": "f5e1ab01",
   "metadata": {},
   "outputs": [],
   "source": [
    "lr_model = linear_model.LinearRegression()"
   ]
  },
  {
   "cell_type": "code",
   "execution_count": 75,
   "id": "83f068c0",
   "metadata": {},
   "outputs": [
    {
     "data": {
      "text/plain": [
       "LinearRegression()"
      ]
     },
     "execution_count": 75,
     "metadata": {},
     "output_type": "execute_result"
    }
   ],
   "source": [
    "lr_model.fit(x_train, y_train)"
   ]
  },
  {
   "cell_type": "code",
   "execution_count": 76,
   "id": "28888754",
   "metadata": {},
   "outputs": [],
   "source": [
    "y_predicted_ls = lr_model.predict(x_test)"
   ]
  },
  {
   "cell_type": "code",
   "execution_count": 77,
   "id": "c9d66974",
   "metadata": {},
   "outputs": [],
   "source": [
    "lr_model = linear_model.LinearRegression()"
   ]
  },
  {
   "cell_type": "code",
   "execution_count": 78,
   "id": "81a3b78e",
   "metadata": {},
   "outputs": [
    {
     "name": "stdout",
     "output_type": "stream",
     "text": [
      "LinearRegression() MSE train:  0.017350118375136187 \n",
      "LinearRegression() R^2 train:  0.9803662806409164\n"
     ]
    }
   ],
   "source": [
    "print('LinearRegression() MSE train: ', mean_squared_error(y_test, y_predicted_ls), '\\nLinearRegression() R^2 train: ', r2_score(y_test, y_predicted_ls))"
   ]
  },
  {
   "cell_type": "code",
   "execution_count": 79,
   "id": "ca0c8468",
   "metadata": {},
   "outputs": [
    {
     "name": "stdout",
     "output_type": "stream",
     "text": [
      "[0.97920436 0.98326176 0.97893299 0.98271229 0.97764404]\n"
     ]
    }
   ],
   "source": [
    "print(cross_val_score(lr_model, X_dataframe, target))"
   ]
  },
  {
   "cell_type": "markdown",
   "id": "ac82e437",
   "metadata": {},
   "source": [
    "---"
   ]
  },
  {
   "cell_type": "code",
   "execution_count": 80,
   "id": "cfa0c58f",
   "metadata": {},
   "outputs": [],
   "source": [
    "dataset_num = dataset.loc[:, dataset.dtypes != 'object']\n",
    "finally_dataset = pd.concat([dataset_num, data_cat_labelenc], axis = 1)"
   ]
  },
  {
   "cell_type": "code",
   "execution_count": 81,
   "id": "0cb75b6e",
   "metadata": {
    "scrolled": false
   },
   "outputs": [
    {
     "data": {
      "text/html": [
       "<div>\n",
       "<style scoped>\n",
       "    .dataframe tbody tr th:only-of-type {\n",
       "        vertical-align: middle;\n",
       "    }\n",
       "\n",
       "    .dataframe tbody tr th {\n",
       "        vertical-align: top;\n",
       "    }\n",
       "\n",
       "    .dataframe thead th {\n",
       "        text-align: right;\n",
       "    }\n",
       "</style>\n",
       "<table border=\"1\" class=\"dataframe\">\n",
       "  <thead>\n",
       "    <tr style=\"text-align: right;\">\n",
       "      <th></th>\n",
       "      <th>YearStart</th>\n",
       "      <th>YearEnd</th>\n",
       "      <th>Data_Value</th>\n",
       "      <th>Low_Confidence_Limit</th>\n",
       "      <th>High_Confidence_Limit</th>\n",
       "      <th>Sample_Size</th>\n",
       "      <th>LocationDesc</th>\n",
       "      <th>Class</th>\n",
       "      <th>Topic</th>\n",
       "      <th>Question</th>\n",
       "      <th>QuestionID</th>\n",
       "      <th>StratificationCategory1</th>\n",
       "      <th>Stratification1</th>\n",
       "      <th>StratificationCategoryId1</th>\n",
       "      <th>StratificationID1</th>\n",
       "    </tr>\n",
       "  </thead>\n",
       "  <tbody>\n",
       "    <tr>\n",
       "      <th>1</th>\n",
       "      <td>2011</td>\n",
       "      <td>2011</td>\n",
       "      <td>5.656854</td>\n",
       "      <td>29</td>\n",
       "      <td>34</td>\n",
       "      <td>2581</td>\n",
       "      <td>0</td>\n",
       "      <td>1</td>\n",
       "      <td>1</td>\n",
       "      <td>1</td>\n",
       "      <td>2</td>\n",
       "      <td>2</td>\n",
       "      <td>22</td>\n",
       "      <td>2</td>\n",
       "      <td>18</td>\n",
       "    </tr>\n",
       "    <tr>\n",
       "      <th>3</th>\n",
       "      <td>2011</td>\n",
       "      <td>2011</td>\n",
       "      <td>5.744563</td>\n",
       "      <td>29</td>\n",
       "      <td>37</td>\n",
       "      <td>1153</td>\n",
       "      <td>0</td>\n",
       "      <td>1</td>\n",
       "      <td>1</td>\n",
       "      <td>1</td>\n",
       "      <td>2</td>\n",
       "      <td>1</td>\n",
       "      <td>21</td>\n",
       "      <td>1</td>\n",
       "      <td>8</td>\n",
       "    </tr>\n",
       "    <tr>\n",
       "      <th>5</th>\n",
       "      <td>2011</td>\n",
       "      <td>2011</td>\n",
       "      <td>5.744563</td>\n",
       "      <td>31</td>\n",
       "      <td>36</td>\n",
       "      <td>1925</td>\n",
       "      <td>0</td>\n",
       "      <td>1</td>\n",
       "      <td>1</td>\n",
       "      <td>1</td>\n",
       "      <td>2</td>\n",
       "      <td>1</td>\n",
       "      <td>26</td>\n",
       "      <td>1</td>\n",
       "      <td>7</td>\n",
       "    </tr>\n",
       "  </tbody>\n",
       "</table>\n",
       "</div>"
      ],
      "text/plain": [
       "   YearStart  YearEnd  Data_Value  Low_Confidence_Limit  \\\n",
       "1       2011     2011    5.656854                    29   \n",
       "3       2011     2011    5.744563                    29   \n",
       "5       2011     2011    5.744563                    31   \n",
       "\n",
       "   High_Confidence_Limit   Sample_Size  LocationDesc  Class  Topic  Question  \\\n",
       "1                      34         2581             0      1      1         1   \n",
       "3                      37         1153             0      1      1         1   \n",
       "5                      36         1925             0      1      1         1   \n",
       "\n",
       "   QuestionID  StratificationCategory1  Stratification1  \\\n",
       "1           2                        2               22   \n",
       "3           2                        1               21   \n",
       "5           2                        1               26   \n",
       "\n",
       "   StratificationCategoryId1  StratificationID1  \n",
       "1                          2                 18  \n",
       "3                          1                  8  \n",
       "5                          1                  7  "
      ]
     },
     "execution_count": 81,
     "metadata": {},
     "output_type": "execute_result"
    }
   ],
   "source": [
    "finally_dataset.head(3)"
   ]
  },
  {
   "cell_type": "code",
   "execution_count": 82,
   "id": "c8a24d13",
   "metadata": {},
   "outputs": [],
   "source": [
    "X_dataframe = finally_dataset.loc[:, finally_dataset.columns != \"Data_Value\"]\n",
    "target = finally_dataset.Data_Value"
   ]
  },
  {
   "cell_type": "code",
   "execution_count": 83,
   "id": "34708dbb",
   "metadata": {},
   "outputs": [
    {
     "name": "stdout",
     "output_type": "stream",
     "text": [
      "X_dataframe shape: (24207, 14) \n",
      "Target value shape: (24207,)\n"
     ]
    }
   ],
   "source": [
    "print(\"X_dataframe shape:\", X_dataframe.shape, \"\\nTarget value shape:\", target.shape)"
   ]
  },
  {
   "cell_type": "code",
   "execution_count": 84,
   "id": "276dc6ec",
   "metadata": {},
   "outputs": [],
   "source": [
    "x_train, x_test, y_train, y_test = train_test_split(X_dataframe, target, test_size=0.3, random_state=18)"
   ]
  },
  {
   "cell_type": "code",
   "execution_count": 85,
   "id": "8d0597ed",
   "metadata": {},
   "outputs": [],
   "source": [
    "lr_model = linear_model.LinearRegression()"
   ]
  },
  {
   "cell_type": "code",
   "execution_count": 86,
   "id": "f81b84f7",
   "metadata": {
    "scrolled": true
   },
   "outputs": [
    {
     "name": "stdout",
     "output_type": "stream",
     "text": [
      "Train data: (16944, 14) (16944,) \n",
      "Test data: (7263, 14) (7263,)\n"
     ]
    }
   ],
   "source": [
    "print(\"Train data:\",x_train.shape, y_train.shape, \"\\nTest data:\",x_test.shape, y_test.shape)"
   ]
  },
  {
   "cell_type": "code",
   "execution_count": 87,
   "id": "7e8ce249",
   "metadata": {},
   "outputs": [],
   "source": [
    "lr_model = linear_model.LinearRegression()"
   ]
  },
  {
   "cell_type": "code",
   "execution_count": 88,
   "id": "2306b0d7",
   "metadata": {},
   "outputs": [
    {
     "data": {
      "text/plain": [
       "LinearRegression()"
      ]
     },
     "execution_count": 88,
     "metadata": {},
     "output_type": "execute_result"
    }
   ],
   "source": [
    "lr_model.fit(x_train, y_train)"
   ]
  },
  {
   "cell_type": "code",
   "execution_count": 89,
   "id": "1487f67d",
   "metadata": {},
   "outputs": [],
   "source": [
    "y_predicted_ls = lr_model.predict(x_test)"
   ]
  },
  {
   "cell_type": "code",
   "execution_count": 90,
   "id": "857d9df9",
   "metadata": {},
   "outputs": [],
   "source": [
    "lr_model = linear_model.LinearRegression()"
   ]
  },
  {
   "cell_type": "code",
   "execution_count": 91,
   "id": "56f63cae",
   "metadata": {},
   "outputs": [
    {
     "name": "stdout",
     "output_type": "stream",
     "text": [
      "LinearRegression() MSE train:  0.01514582364494158 \n",
      "LinearRegression() R^2 train:  0.9828607018996998\n"
     ]
    }
   ],
   "source": [
    "print('LinearRegression() MSE train: ', mean_squared_error(y_test, y_predicted_ls), '\\nLinearRegression() R^2 train: ', r2_score(y_test, y_predicted_ls))"
   ]
  },
  {
   "cell_type": "code",
   "execution_count": 93,
   "id": "63872a71",
   "metadata": {
    "scrolled": true
   },
   "outputs": [
    {
     "name": "stdout",
     "output_type": "stream",
     "text": [
      "[0.981575   0.98557197 0.98151963 0.98518253 0.9809016 ]\n"
     ]
    }
   ],
   "source": [
    "print(cross_val_score(lr_model, X_dataframe, target))"
   ]
  },
  {
   "cell_type": "markdown",
   "id": "ea7027d0",
   "metadata": {},
   "source": [
    "---"
   ]
  },
  {
   "cell_type": "markdown",
   "id": "1cf8e220",
   "metadata": {},
   "source": [
    "# 4. Summary"
   ]
  },
  {
   "cell_type": "markdown",
   "id": "4269c864",
   "metadata": {},
   "source": [
    "First, we create a working notebook, add cells, names and numbers of tasks through Makrdowns (We are engaged in the initial preparation of the document)<br><br>\n",
    "After reading our dataset and starting the primary analysis, we look at the values of describe(), info(). After that, we begin to get rid of unnecessary data: columns, empty cells. In this dataset, there are about 18-19 unnecessary and duplicate columns that I deleted. I also deleted about 2500 empty values. In total, I have about 24,000 lines left. It is quite enough for the work and training of the model. After that, I encoded my categorical data using LabelEncoding(), however, I did not use this data, since they have a weak correlation with the TARGET VALUE = [Data_Value]. As a result, I left them to check for paragraph 3.2.<br><br>\n",
    "The first model is linear regression, by dividing my dataset, I got acceptable values of R^2 approximately equal to one, which indicates a good quality of the model. Crossqualification also showed acceptable values, values. you don't differ from each other too much<br><br>\n",
    "After I used the DecisionTreeClassifier() model, in order for the values to be accepted by the model, I had to translate the values float to int. After that, the model showed values approximately equal to 0.2. Apparently, the model was not trained enough. We can assume that the best model for this dataset is linear<br><br>\n",
    "I also tried to improve the model, but something doesn't work, the values only became a hundredth less<br>"
   ]
  }
 ],
 "metadata": {
  "kernelspec": {
   "display_name": "Python 3 (ipykernel)",
   "language": "python",
   "name": "python3"
  },
  "language_info": {
   "codemirror_mode": {
    "name": "ipython",
    "version": 3
   },
   "file_extension": ".py",
   "mimetype": "text/x-python",
   "name": "python",
   "nbconvert_exporter": "python",
   "pygments_lexer": "ipython3",
   "version": "3.9.0"
  }
 },
 "nbformat": 4,
 "nbformat_minor": 5
}
